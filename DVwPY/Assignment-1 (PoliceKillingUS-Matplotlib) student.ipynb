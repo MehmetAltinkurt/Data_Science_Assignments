{
 "cells": [
  {
   "cell_type": "markdown",
   "metadata": {
    "id": "xSwVOspA2Zin"
   },
   "source": [
    "# WITH PANDAS AND MATPLOTLIB"
   ]
  },
  {
   "cell_type": "code",
   "execution_count": 3,
   "metadata": {
    "_cell_guid": "5fdcd462-5466-40f5-9992-dc31a9a174f2",
    "_uuid": "dab5021d92c7210270cec270470e4ae179a1de01",
    "id": "22qiZVq32Zir"
   },
   "outputs": [],
   "source": [
    "import numpy as np \n",
    "import pandas as pd\n",
    "import seaborn as sns\n",
    "import matplotlib.pyplot as plt\n",
    "from collections import Counter\n",
    "import warnings\n",
    "warnings.filterwarnings('ignore') "
   ]
  },
  {
   "cell_type": "markdown",
   "metadata": {
    "id": "Rsu0y4Ha2Zit"
   },
   "source": [
    "INSTRUCTIONS\n",
    "\n",
    "1. Number of people by gender\n",
    "1. Kill weapon\n",
    "1. Age of killed people\n",
    "1. Race of killed people\n",
    "1. Killed People According to Races (Pie Chart)\n",
    "1. Most common 15 Name or Surname of killed people\n",
    "\n",
    "<br>"
   ]
  },
  {
   "cell_type": "markdown",
   "metadata": {
    "id": "OTDjgwf53tr5"
   },
   "source": [
    "read data\n",
    "\n",
    "if didn't work you can use this parameters: encoding=\"windows-1252\""
   ]
  },
  {
   "cell_type": "code",
   "execution_count": 206,
   "metadata": {},
   "outputs": [
    {
     "data": {
      "text/plain": [
       "{'ALLUSERSPROFILE': 'C:\\\\ProgramData',\n",
       " 'APPDATA': 'C:\\\\Users\\\\mehme\\\\AppData\\\\Roaming',\n",
       " 'COMMONPROGRAMFILES': 'C:\\\\Program Files\\\\Common Files',\n",
       " 'COMMONPROGRAMFILES(X86)': 'C:\\\\Program Files (x86)\\\\Common Files',\n",
       " 'COMMONPROGRAMW6432': 'C:\\\\Program Files\\\\Common Files',\n",
       " 'COMPUTERNAME': 'DESKTOP-A098217',\n",
       " 'COMSPEC': 'C:\\\\WINDOWS\\\\system32\\\\cmd.exe',\n",
       " 'CONDA_DEFAULT_ENV': 'base',\n",
       " 'CONDA_EXE': 'C:\\\\Users\\\\mehme\\\\anaconda3\\\\Scripts\\\\conda.exe',\n",
       " 'CONDA_PREFIX': 'C:\\\\Users\\\\mehme\\\\anaconda3',\n",
       " 'CONDA_PROMPT_MODIFIER': '(base) ',\n",
       " 'CONDA_PYTHON_EXE': 'C:\\\\Users\\\\mehme\\\\anaconda3\\\\python.exe',\n",
       " 'CONDA_SHLVL': '1',\n",
       " 'DRIVERDATA': 'C:\\\\Windows\\\\System32\\\\Drivers\\\\DriverData',\n",
       " 'FPS_BROWSER_APP_PROFILE_STRING': 'Internet Explorer',\n",
       " 'FPS_BROWSER_USER_PROFILE_STRING': 'Default',\n",
       " 'HOMEDRIVE': 'C:',\n",
       " 'HOMEPATH': '\\\\Users\\\\mehme',\n",
       " 'LOCALAPPDATA': 'C:\\\\Users\\\\mehme\\\\AppData\\\\Local',\n",
       " 'LOGONSERVER': '\\\\\\\\DESKTOP-A098217',\n",
       " 'NUMBER_OF_PROCESSORS': '8',\n",
       " 'ONEDRIVE': 'C:\\\\Users\\\\mehme\\\\OneDrive - Ankara Üniversitesi',\n",
       " 'ONEDRIVECOMMERCIAL': 'C:\\\\Users\\\\mehme\\\\OneDrive - Ankara Üniversitesi',\n",
       " 'ONEDRIVECONSUMER': 'C:\\\\Users\\\\mehme\\\\OneDrive',\n",
       " 'OS': 'Windows_NT',\n",
       " 'PATH': 'C:\\\\Users\\\\mehme\\\\anaconda3;C:\\\\Users\\\\mehme\\\\anaconda3\\\\Library\\\\mingw-w64\\\\bin;C:\\\\Users\\\\mehme\\\\anaconda3\\\\Library\\\\usr\\\\bin;C:\\\\Users\\\\mehme\\\\anaconda3\\\\Library\\\\bin;C:\\\\Users\\\\mehme\\\\anaconda3\\\\Scripts;C:\\\\Users\\\\mehme\\\\anaconda3\\\\bin;C:\\\\Users\\\\mehme\\\\anaconda3\\\\condabin;C:\\\\WINDOWS\\\\system32;C:\\\\WINDOWS;C:\\\\WINDOWS\\\\System32\\\\Wbem;C:\\\\WINDOWS\\\\System32\\\\WindowsPowerShell\\\\v1.0;C:\\\\WINDOWS\\\\System32\\\\OpenSSH;C:\\\\Program Files\\\\Git\\\\cmd;C:\\\\Users\\\\mehme\\\\AppData\\\\Local\\\\Microsoft\\\\WindowsApps;.',\n",
       " 'PATHEXT': '.COM;.EXE;.BAT;.CMD;.VBS;.VBE;.JS;.JSE;.WSF;.WSH;.MSC',\n",
       " 'PROCESSOR_ARCHITECTURE': 'AMD64',\n",
       " 'PROCESSOR_IDENTIFIER': 'Intel64 Family 6 Model 142 Stepping 12, GenuineIntel',\n",
       " 'PROCESSOR_LEVEL': '6',\n",
       " 'PROCESSOR_REVISION': '8e0c',\n",
       " 'PROGRAMDATA': 'C:\\\\ProgramData',\n",
       " 'PROGRAMFILES': 'C:\\\\Program Files',\n",
       " 'PROGRAMFILES(X86)': 'C:\\\\Program Files (x86)',\n",
       " 'PROGRAMW6432': 'C:\\\\Program Files',\n",
       " 'PROMPT': '(base) $P$G',\n",
       " 'PSMODULEPATH': 'C:\\\\Program Files\\\\WindowsPowerShell\\\\Modules;C:\\\\WINDOWS\\\\system32\\\\WindowsPowerShell\\\\v1.0\\\\Modules',\n",
       " 'PUBLIC': 'C:\\\\Users\\\\Public',\n",
       " 'SESSIONNAME': 'Console',\n",
       " 'SYSTEMDRIVE': 'C:',\n",
       " 'SYSTEMROOT': 'C:\\\\WINDOWS',\n",
       " 'TEMP': 'C:\\\\Users\\\\mehme\\\\AppData\\\\Local\\\\Temp',\n",
       " 'TMP': 'C:\\\\Users\\\\mehme\\\\AppData\\\\Local\\\\Temp',\n",
       " 'USERDOMAIN': 'DESKTOP-A098217',\n",
       " 'USERDOMAIN_ROAMINGPROFILE': 'DESKTOP-A098217',\n",
       " 'USERNAME': 'mehme',\n",
       " 'USERPROFILE': 'C:\\\\Users\\\\mehme',\n",
       " 'WINDIR': 'C:\\\\WINDOWS',\n",
       " 'ZES_ENABLE_SYSMAN': '1',\n",
       " 'JPY_INTERRUPT_EVENT': '3628',\n",
       " 'IPY_INTERRUPT_EVENT': '3628',\n",
       " 'JPY_PARENT_PID': '3704',\n",
       " 'TERM': 'xterm-color',\n",
       " 'CLICOLOR': '1',\n",
       " 'PAGER': 'cat',\n",
       " 'GIT_PAGER': 'cat',\n",
       " 'MPLBACKEND': 'module://ipykernel.pylab.backend_inline'}"
      ]
     },
     "execution_count": 206,
     "metadata": {},
     "output_type": "execute_result"
    }
   ],
   "source": [
    "%env"
   ]
  },
  {
   "cell_type": "code",
   "execution_count": 208,
   "metadata": {},
   "outputs": [
    {
     "name": "stdout",
     "output_type": "stream",
     "text": [
      "Available matplotlib backends: ['tk', 'gtk', 'gtk3', 'wx', 'qt4', 'qt5', 'qt', 'osx', 'nbagg', 'notebook', 'agg', 'svg', 'pdf', 'ps', 'inline', 'ipympl', 'widget']\n"
     ]
    }
   ],
   "source": [
    "%matplotlib -l"
   ]
  },
  {
   "cell_type": "code",
   "execution_count": 209,
   "metadata": {},
   "outputs": [
    {
     "data": {
      "application/javascript": [
       "/* Put everything inside the global mpl namespace */\n",
       "/* global mpl */\n",
       "window.mpl = {};\n",
       "\n",
       "mpl.get_websocket_type = function () {\n",
       "    if (typeof WebSocket !== 'undefined') {\n",
       "        return WebSocket;\n",
       "    } else if (typeof MozWebSocket !== 'undefined') {\n",
       "        return MozWebSocket;\n",
       "    } else {\n",
       "        alert(\n",
       "            'Your browser does not have WebSocket support. ' +\n",
       "                'Please try Chrome, Safari or Firefox ≥ 6. ' +\n",
       "                'Firefox 4 and 5 are also supported but you ' +\n",
       "                'have to enable WebSockets in about:config.'\n",
       "        );\n",
       "    }\n",
       "};\n",
       "\n",
       "mpl.figure = function (figure_id, websocket, ondownload, parent_element) {\n",
       "    this.id = figure_id;\n",
       "\n",
       "    this.ws = websocket;\n",
       "\n",
       "    this.supports_binary = this.ws.binaryType !== undefined;\n",
       "\n",
       "    if (!this.supports_binary) {\n",
       "        var warnings = document.getElementById('mpl-warnings');\n",
       "        if (warnings) {\n",
       "            warnings.style.display = 'block';\n",
       "            warnings.textContent =\n",
       "                'This browser does not support binary websocket messages. ' +\n",
       "                'Performance may be slow.';\n",
       "        }\n",
       "    }\n",
       "\n",
       "    this.imageObj = new Image();\n",
       "\n",
       "    this.context = undefined;\n",
       "    this.message = undefined;\n",
       "    this.canvas = undefined;\n",
       "    this.rubberband_canvas = undefined;\n",
       "    this.rubberband_context = undefined;\n",
       "    this.format_dropdown = undefined;\n",
       "\n",
       "    this.image_mode = 'full';\n",
       "\n",
       "    this.root = document.createElement('div');\n",
       "    this.root.setAttribute('style', 'display: inline-block');\n",
       "    this._root_extra_style(this.root);\n",
       "\n",
       "    parent_element.appendChild(this.root);\n",
       "\n",
       "    this._init_header(this);\n",
       "    this._init_canvas(this);\n",
       "    this._init_toolbar(this);\n",
       "\n",
       "    var fig = this;\n",
       "\n",
       "    this.waiting = false;\n",
       "\n",
       "    this.ws.onopen = function () {\n",
       "        fig.send_message('supports_binary', { value: fig.supports_binary });\n",
       "        fig.send_message('send_image_mode', {});\n",
       "        if (fig.ratio !== 1) {\n",
       "            fig.send_message('set_device_pixel_ratio', {\n",
       "                device_pixel_ratio: fig.ratio,\n",
       "            });\n",
       "        }\n",
       "        fig.send_message('refresh', {});\n",
       "    };\n",
       "\n",
       "    this.imageObj.onload = function () {\n",
       "        if (fig.image_mode === 'full') {\n",
       "            // Full images could contain transparency (where diff images\n",
       "            // almost always do), so we need to clear the canvas so that\n",
       "            // there is no ghosting.\n",
       "            fig.context.clearRect(0, 0, fig.canvas.width, fig.canvas.height);\n",
       "        }\n",
       "        fig.context.drawImage(fig.imageObj, 0, 0);\n",
       "    };\n",
       "\n",
       "    this.imageObj.onunload = function () {\n",
       "        fig.ws.close();\n",
       "    };\n",
       "\n",
       "    this.ws.onmessage = this._make_on_message_function(this);\n",
       "\n",
       "    this.ondownload = ondownload;\n",
       "};\n",
       "\n",
       "mpl.figure.prototype._init_header = function () {\n",
       "    var titlebar = document.createElement('div');\n",
       "    titlebar.classList =\n",
       "        'ui-dialog-titlebar ui-widget-header ui-corner-all ui-helper-clearfix';\n",
       "    var titletext = document.createElement('div');\n",
       "    titletext.classList = 'ui-dialog-title';\n",
       "    titletext.setAttribute(\n",
       "        'style',\n",
       "        'width: 100%; text-align: center; padding: 3px;'\n",
       "    );\n",
       "    titlebar.appendChild(titletext);\n",
       "    this.root.appendChild(titlebar);\n",
       "    this.header = titletext;\n",
       "};\n",
       "\n",
       "mpl.figure.prototype._canvas_extra_style = function (_canvas_div) {};\n",
       "\n",
       "mpl.figure.prototype._root_extra_style = function (_canvas_div) {};\n",
       "\n",
       "mpl.figure.prototype._init_canvas = function () {\n",
       "    var fig = this;\n",
       "\n",
       "    var canvas_div = (this.canvas_div = document.createElement('div'));\n",
       "    canvas_div.setAttribute(\n",
       "        'style',\n",
       "        'border: 1px solid #ddd;' +\n",
       "            'box-sizing: content-box;' +\n",
       "            'clear: both;' +\n",
       "            'min-height: 1px;' +\n",
       "            'min-width: 1px;' +\n",
       "            'outline: 0;' +\n",
       "            'overflow: hidden;' +\n",
       "            'position: relative;' +\n",
       "            'resize: both;'\n",
       "    );\n",
       "\n",
       "    function on_keyboard_event_closure(name) {\n",
       "        return function (event) {\n",
       "            return fig.key_event(event, name);\n",
       "        };\n",
       "    }\n",
       "\n",
       "    canvas_div.addEventListener(\n",
       "        'keydown',\n",
       "        on_keyboard_event_closure('key_press')\n",
       "    );\n",
       "    canvas_div.addEventListener(\n",
       "        'keyup',\n",
       "        on_keyboard_event_closure('key_release')\n",
       "    );\n",
       "\n",
       "    this._canvas_extra_style(canvas_div);\n",
       "    this.root.appendChild(canvas_div);\n",
       "\n",
       "    var canvas = (this.canvas = document.createElement('canvas'));\n",
       "    canvas.classList.add('mpl-canvas');\n",
       "    canvas.setAttribute('style', 'box-sizing: content-box;');\n",
       "\n",
       "    this.context = canvas.getContext('2d');\n",
       "\n",
       "    var backingStore =\n",
       "        this.context.backingStorePixelRatio ||\n",
       "        this.context.webkitBackingStorePixelRatio ||\n",
       "        this.context.mozBackingStorePixelRatio ||\n",
       "        this.context.msBackingStorePixelRatio ||\n",
       "        this.context.oBackingStorePixelRatio ||\n",
       "        this.context.backingStorePixelRatio ||\n",
       "        1;\n",
       "\n",
       "    this.ratio = (window.devicePixelRatio || 1) / backingStore;\n",
       "\n",
       "    var rubberband_canvas = (this.rubberband_canvas = document.createElement(\n",
       "        'canvas'\n",
       "    ));\n",
       "    rubberband_canvas.setAttribute(\n",
       "        'style',\n",
       "        'box-sizing: content-box; position: absolute; left: 0; top: 0; z-index: 1;'\n",
       "    );\n",
       "\n",
       "    // Apply a ponyfill if ResizeObserver is not implemented by browser.\n",
       "    if (this.ResizeObserver === undefined) {\n",
       "        if (window.ResizeObserver !== undefined) {\n",
       "            this.ResizeObserver = window.ResizeObserver;\n",
       "        } else {\n",
       "            var obs = _JSXTOOLS_RESIZE_OBSERVER({});\n",
       "            this.ResizeObserver = obs.ResizeObserver;\n",
       "        }\n",
       "    }\n",
       "\n",
       "    this.resizeObserverInstance = new this.ResizeObserver(function (entries) {\n",
       "        var nentries = entries.length;\n",
       "        for (var i = 0; i < nentries; i++) {\n",
       "            var entry = entries[i];\n",
       "            var width, height;\n",
       "            if (entry.contentBoxSize) {\n",
       "                if (entry.contentBoxSize instanceof Array) {\n",
       "                    // Chrome 84 implements new version of spec.\n",
       "                    width = entry.contentBoxSize[0].inlineSize;\n",
       "                    height = entry.contentBoxSize[0].blockSize;\n",
       "                } else {\n",
       "                    // Firefox implements old version of spec.\n",
       "                    width = entry.contentBoxSize.inlineSize;\n",
       "                    height = entry.contentBoxSize.blockSize;\n",
       "                }\n",
       "            } else {\n",
       "                // Chrome <84 implements even older version of spec.\n",
       "                width = entry.contentRect.width;\n",
       "                height = entry.contentRect.height;\n",
       "            }\n",
       "\n",
       "            // Keep the size of the canvas and rubber band canvas in sync with\n",
       "            // the canvas container.\n",
       "            if (entry.devicePixelContentBoxSize) {\n",
       "                // Chrome 84 implements new version of spec.\n",
       "                canvas.setAttribute(\n",
       "                    'width',\n",
       "                    entry.devicePixelContentBoxSize[0].inlineSize\n",
       "                );\n",
       "                canvas.setAttribute(\n",
       "                    'height',\n",
       "                    entry.devicePixelContentBoxSize[0].blockSize\n",
       "                );\n",
       "            } else {\n",
       "                canvas.setAttribute('width', width * fig.ratio);\n",
       "                canvas.setAttribute('height', height * fig.ratio);\n",
       "            }\n",
       "            canvas.setAttribute(\n",
       "                'style',\n",
       "                'width: ' + width + 'px; height: ' + height + 'px;'\n",
       "            );\n",
       "\n",
       "            rubberband_canvas.setAttribute('width', width);\n",
       "            rubberband_canvas.setAttribute('height', height);\n",
       "\n",
       "            // And update the size in Python. We ignore the initial 0/0 size\n",
       "            // that occurs as the element is placed into the DOM, which should\n",
       "            // otherwise not happen due to the minimum size styling.\n",
       "            if (fig.ws.readyState == 1 && width != 0 && height != 0) {\n",
       "                fig.request_resize(width, height);\n",
       "            }\n",
       "        }\n",
       "    });\n",
       "    this.resizeObserverInstance.observe(canvas_div);\n",
       "\n",
       "    function on_mouse_event_closure(name) {\n",
       "        return function (event) {\n",
       "            return fig.mouse_event(event, name);\n",
       "        };\n",
       "    }\n",
       "\n",
       "    rubberband_canvas.addEventListener(\n",
       "        'mousedown',\n",
       "        on_mouse_event_closure('button_press')\n",
       "    );\n",
       "    rubberband_canvas.addEventListener(\n",
       "        'mouseup',\n",
       "        on_mouse_event_closure('button_release')\n",
       "    );\n",
       "    rubberband_canvas.addEventListener(\n",
       "        'dblclick',\n",
       "        on_mouse_event_closure('dblclick')\n",
       "    );\n",
       "    // Throttle sequential mouse events to 1 every 20ms.\n",
       "    rubberband_canvas.addEventListener(\n",
       "        'mousemove',\n",
       "        on_mouse_event_closure('motion_notify')\n",
       "    );\n",
       "\n",
       "    rubberband_canvas.addEventListener(\n",
       "        'mouseenter',\n",
       "        on_mouse_event_closure('figure_enter')\n",
       "    );\n",
       "    rubberband_canvas.addEventListener(\n",
       "        'mouseleave',\n",
       "        on_mouse_event_closure('figure_leave')\n",
       "    );\n",
       "\n",
       "    canvas_div.addEventListener('wheel', function (event) {\n",
       "        if (event.deltaY < 0) {\n",
       "            event.step = 1;\n",
       "        } else {\n",
       "            event.step = -1;\n",
       "        }\n",
       "        on_mouse_event_closure('scroll')(event);\n",
       "    });\n",
       "\n",
       "    canvas_div.appendChild(canvas);\n",
       "    canvas_div.appendChild(rubberband_canvas);\n",
       "\n",
       "    this.rubberband_context = rubberband_canvas.getContext('2d');\n",
       "    this.rubberband_context.strokeStyle = '#000000';\n",
       "\n",
       "    this._resize_canvas = function (width, height, forward) {\n",
       "        if (forward) {\n",
       "            canvas_div.style.width = width + 'px';\n",
       "            canvas_div.style.height = height + 'px';\n",
       "        }\n",
       "    };\n",
       "\n",
       "    // Disable right mouse context menu.\n",
       "    this.rubberband_canvas.addEventListener('contextmenu', function (_e) {\n",
       "        event.preventDefault();\n",
       "        return false;\n",
       "    });\n",
       "\n",
       "    function set_focus() {\n",
       "        canvas.focus();\n",
       "        canvas_div.focus();\n",
       "    }\n",
       "\n",
       "    window.setTimeout(set_focus, 100);\n",
       "};\n",
       "\n",
       "mpl.figure.prototype._init_toolbar = function () {\n",
       "    var fig = this;\n",
       "\n",
       "    var toolbar = document.createElement('div');\n",
       "    toolbar.classList = 'mpl-toolbar';\n",
       "    this.root.appendChild(toolbar);\n",
       "\n",
       "    function on_click_closure(name) {\n",
       "        return function (_event) {\n",
       "            return fig.toolbar_button_onclick(name);\n",
       "        };\n",
       "    }\n",
       "\n",
       "    function on_mouseover_closure(tooltip) {\n",
       "        return function (event) {\n",
       "            if (!event.currentTarget.disabled) {\n",
       "                return fig.toolbar_button_onmouseover(tooltip);\n",
       "            }\n",
       "        };\n",
       "    }\n",
       "\n",
       "    fig.buttons = {};\n",
       "    var buttonGroup = document.createElement('div');\n",
       "    buttonGroup.classList = 'mpl-button-group';\n",
       "    for (var toolbar_ind in mpl.toolbar_items) {\n",
       "        var name = mpl.toolbar_items[toolbar_ind][0];\n",
       "        var tooltip = mpl.toolbar_items[toolbar_ind][1];\n",
       "        var image = mpl.toolbar_items[toolbar_ind][2];\n",
       "        var method_name = mpl.toolbar_items[toolbar_ind][3];\n",
       "\n",
       "        if (!name) {\n",
       "            /* Instead of a spacer, we start a new button group. */\n",
       "            if (buttonGroup.hasChildNodes()) {\n",
       "                toolbar.appendChild(buttonGroup);\n",
       "            }\n",
       "            buttonGroup = document.createElement('div');\n",
       "            buttonGroup.classList = 'mpl-button-group';\n",
       "            continue;\n",
       "        }\n",
       "\n",
       "        var button = (fig.buttons[name] = document.createElement('button'));\n",
       "        button.classList = 'mpl-widget';\n",
       "        button.setAttribute('role', 'button');\n",
       "        button.setAttribute('aria-disabled', 'false');\n",
       "        button.addEventListener('click', on_click_closure(method_name));\n",
       "        button.addEventListener('mouseover', on_mouseover_closure(tooltip));\n",
       "\n",
       "        var icon_img = document.createElement('img');\n",
       "        icon_img.src = '_images/' + image + '.png';\n",
       "        icon_img.srcset = '_images/' + image + '_large.png 2x';\n",
       "        icon_img.alt = tooltip;\n",
       "        button.appendChild(icon_img);\n",
       "\n",
       "        buttonGroup.appendChild(button);\n",
       "    }\n",
       "\n",
       "    if (buttonGroup.hasChildNodes()) {\n",
       "        toolbar.appendChild(buttonGroup);\n",
       "    }\n",
       "\n",
       "    var fmt_picker = document.createElement('select');\n",
       "    fmt_picker.classList = 'mpl-widget';\n",
       "    toolbar.appendChild(fmt_picker);\n",
       "    this.format_dropdown = fmt_picker;\n",
       "\n",
       "    for (var ind in mpl.extensions) {\n",
       "        var fmt = mpl.extensions[ind];\n",
       "        var option = document.createElement('option');\n",
       "        option.selected = fmt === mpl.default_extension;\n",
       "        option.innerHTML = fmt;\n",
       "        fmt_picker.appendChild(option);\n",
       "    }\n",
       "\n",
       "    var status_bar = document.createElement('span');\n",
       "    status_bar.classList = 'mpl-message';\n",
       "    toolbar.appendChild(status_bar);\n",
       "    this.message = status_bar;\n",
       "};\n",
       "\n",
       "mpl.figure.prototype.request_resize = function (x_pixels, y_pixels) {\n",
       "    // Request matplotlib to resize the figure. Matplotlib will then trigger a resize in the client,\n",
       "    // which will in turn request a refresh of the image.\n",
       "    this.send_message('resize', { width: x_pixels, height: y_pixels });\n",
       "};\n",
       "\n",
       "mpl.figure.prototype.send_message = function (type, properties) {\n",
       "    properties['type'] = type;\n",
       "    properties['figure_id'] = this.id;\n",
       "    this.ws.send(JSON.stringify(properties));\n",
       "};\n",
       "\n",
       "mpl.figure.prototype.send_draw_message = function () {\n",
       "    if (!this.waiting) {\n",
       "        this.waiting = true;\n",
       "        this.ws.send(JSON.stringify({ type: 'draw', figure_id: this.id }));\n",
       "    }\n",
       "};\n",
       "\n",
       "mpl.figure.prototype.handle_save = function (fig, _msg) {\n",
       "    var format_dropdown = fig.format_dropdown;\n",
       "    var format = format_dropdown.options[format_dropdown.selectedIndex].value;\n",
       "    fig.ondownload(fig, format);\n",
       "};\n",
       "\n",
       "mpl.figure.prototype.handle_resize = function (fig, msg) {\n",
       "    var size = msg['size'];\n",
       "    if (size[0] !== fig.canvas.width || size[1] !== fig.canvas.height) {\n",
       "        fig._resize_canvas(size[0], size[1], msg['forward']);\n",
       "        fig.send_message('refresh', {});\n",
       "    }\n",
       "};\n",
       "\n",
       "mpl.figure.prototype.handle_rubberband = function (fig, msg) {\n",
       "    var x0 = msg['x0'] / fig.ratio;\n",
       "    var y0 = (fig.canvas.height - msg['y0']) / fig.ratio;\n",
       "    var x1 = msg['x1'] / fig.ratio;\n",
       "    var y1 = (fig.canvas.height - msg['y1']) / fig.ratio;\n",
       "    x0 = Math.floor(x0) + 0.5;\n",
       "    y0 = Math.floor(y0) + 0.5;\n",
       "    x1 = Math.floor(x1) + 0.5;\n",
       "    y1 = Math.floor(y1) + 0.5;\n",
       "    var min_x = Math.min(x0, x1);\n",
       "    var min_y = Math.min(y0, y1);\n",
       "    var width = Math.abs(x1 - x0);\n",
       "    var height = Math.abs(y1 - y0);\n",
       "\n",
       "    fig.rubberband_context.clearRect(\n",
       "        0,\n",
       "        0,\n",
       "        fig.canvas.width / fig.ratio,\n",
       "        fig.canvas.height / fig.ratio\n",
       "    );\n",
       "\n",
       "    fig.rubberband_context.strokeRect(min_x, min_y, width, height);\n",
       "};\n",
       "\n",
       "mpl.figure.prototype.handle_figure_label = function (fig, msg) {\n",
       "    // Updates the figure title.\n",
       "    fig.header.textContent = msg['label'];\n",
       "};\n",
       "\n",
       "mpl.figure.prototype.handle_cursor = function (fig, msg) {\n",
       "    fig.rubberband_canvas.style.cursor = msg['cursor'];\n",
       "};\n",
       "\n",
       "mpl.figure.prototype.handle_message = function (fig, msg) {\n",
       "    fig.message.textContent = msg['message'];\n",
       "};\n",
       "\n",
       "mpl.figure.prototype.handle_draw = function (fig, _msg) {\n",
       "    // Request the server to send over a new figure.\n",
       "    fig.send_draw_message();\n",
       "};\n",
       "\n",
       "mpl.figure.prototype.handle_image_mode = function (fig, msg) {\n",
       "    fig.image_mode = msg['mode'];\n",
       "};\n",
       "\n",
       "mpl.figure.prototype.handle_history_buttons = function (fig, msg) {\n",
       "    for (var key in msg) {\n",
       "        if (!(key in fig.buttons)) {\n",
       "            continue;\n",
       "        }\n",
       "        fig.buttons[key].disabled = !msg[key];\n",
       "        fig.buttons[key].setAttribute('aria-disabled', !msg[key]);\n",
       "    }\n",
       "};\n",
       "\n",
       "mpl.figure.prototype.handle_navigate_mode = function (fig, msg) {\n",
       "    if (msg['mode'] === 'PAN') {\n",
       "        fig.buttons['Pan'].classList.add('active');\n",
       "        fig.buttons['Zoom'].classList.remove('active');\n",
       "    } else if (msg['mode'] === 'ZOOM') {\n",
       "        fig.buttons['Pan'].classList.remove('active');\n",
       "        fig.buttons['Zoom'].classList.add('active');\n",
       "    } else {\n",
       "        fig.buttons['Pan'].classList.remove('active');\n",
       "        fig.buttons['Zoom'].classList.remove('active');\n",
       "    }\n",
       "};\n",
       "\n",
       "mpl.figure.prototype.updated_canvas_event = function () {\n",
       "    // Called whenever the canvas gets updated.\n",
       "    this.send_message('ack', {});\n",
       "};\n",
       "\n",
       "// A function to construct a web socket function for onmessage handling.\n",
       "// Called in the figure constructor.\n",
       "mpl.figure.prototype._make_on_message_function = function (fig) {\n",
       "    return function socket_on_message(evt) {\n",
       "        if (evt.data instanceof Blob) {\n",
       "            var img = evt.data;\n",
       "            if (img.type !== 'image/png') {\n",
       "                /* FIXME: We get \"Resource interpreted as Image but\n",
       "                 * transferred with MIME type text/plain:\" errors on\n",
       "                 * Chrome.  But how to set the MIME type?  It doesn't seem\n",
       "                 * to be part of the websocket stream */\n",
       "                img.type = 'image/png';\n",
       "            }\n",
       "\n",
       "            /* Free the memory for the previous frames */\n",
       "            if (fig.imageObj.src) {\n",
       "                (window.URL || window.webkitURL).revokeObjectURL(\n",
       "                    fig.imageObj.src\n",
       "                );\n",
       "            }\n",
       "\n",
       "            fig.imageObj.src = (window.URL || window.webkitURL).createObjectURL(\n",
       "                img\n",
       "            );\n",
       "            fig.updated_canvas_event();\n",
       "            fig.waiting = false;\n",
       "            return;\n",
       "        } else if (\n",
       "            typeof evt.data === 'string' &&\n",
       "            evt.data.slice(0, 21) === 'data:image/png;base64'\n",
       "        ) {\n",
       "            fig.imageObj.src = evt.data;\n",
       "            fig.updated_canvas_event();\n",
       "            fig.waiting = false;\n",
       "            return;\n",
       "        }\n",
       "\n",
       "        var msg = JSON.parse(evt.data);\n",
       "        var msg_type = msg['type'];\n",
       "\n",
       "        // Call the  \"handle_{type}\" callback, which takes\n",
       "        // the figure and JSON message as its only arguments.\n",
       "        try {\n",
       "            var callback = fig['handle_' + msg_type];\n",
       "        } catch (e) {\n",
       "            console.log(\n",
       "                \"No handler for the '\" + msg_type + \"' message type: \",\n",
       "                msg\n",
       "            );\n",
       "            return;\n",
       "        }\n",
       "\n",
       "        if (callback) {\n",
       "            try {\n",
       "                // console.log(\"Handling '\" + msg_type + \"' message: \", msg);\n",
       "                callback(fig, msg);\n",
       "            } catch (e) {\n",
       "                console.log(\n",
       "                    \"Exception inside the 'handler_\" + msg_type + \"' callback:\",\n",
       "                    e,\n",
       "                    e.stack,\n",
       "                    msg\n",
       "                );\n",
       "            }\n",
       "        }\n",
       "    };\n",
       "};\n",
       "\n",
       "// from https://stackoverflow.com/questions/1114465/getting-mouse-location-in-canvas\n",
       "mpl.findpos = function (e) {\n",
       "    //this section is from http://www.quirksmode.org/js/events_properties.html\n",
       "    var targ;\n",
       "    if (!e) {\n",
       "        e = window.event;\n",
       "    }\n",
       "    if (e.target) {\n",
       "        targ = e.target;\n",
       "    } else if (e.srcElement) {\n",
       "        targ = e.srcElement;\n",
       "    }\n",
       "    if (targ.nodeType === 3) {\n",
       "        // defeat Safari bug\n",
       "        targ = targ.parentNode;\n",
       "    }\n",
       "\n",
       "    // pageX,Y are the mouse positions relative to the document\n",
       "    var boundingRect = targ.getBoundingClientRect();\n",
       "    var x = e.pageX - (boundingRect.left + document.body.scrollLeft);\n",
       "    var y = e.pageY - (boundingRect.top + document.body.scrollTop);\n",
       "\n",
       "    return { x: x, y: y };\n",
       "};\n",
       "\n",
       "/*\n",
       " * return a copy of an object with only non-object keys\n",
       " * we need this to avoid circular references\n",
       " * https://stackoverflow.com/a/24161582/3208463\n",
       " */\n",
       "function simpleKeys(original) {\n",
       "    return Object.keys(original).reduce(function (obj, key) {\n",
       "        if (typeof original[key] !== 'object') {\n",
       "            obj[key] = original[key];\n",
       "        }\n",
       "        return obj;\n",
       "    }, {});\n",
       "}\n",
       "\n",
       "mpl.figure.prototype.mouse_event = function (event, name) {\n",
       "    var canvas_pos = mpl.findpos(event);\n",
       "\n",
       "    if (name === 'button_press') {\n",
       "        this.canvas.focus();\n",
       "        this.canvas_div.focus();\n",
       "    }\n",
       "\n",
       "    var x = canvas_pos.x * this.ratio;\n",
       "    var y = canvas_pos.y * this.ratio;\n",
       "\n",
       "    this.send_message(name, {\n",
       "        x: x,\n",
       "        y: y,\n",
       "        button: event.button,\n",
       "        step: event.step,\n",
       "        guiEvent: simpleKeys(event),\n",
       "    });\n",
       "\n",
       "    /* This prevents the web browser from automatically changing to\n",
       "     * the text insertion cursor when the button is pressed.  We want\n",
       "     * to control all of the cursor setting manually through the\n",
       "     * 'cursor' event from matplotlib */\n",
       "    event.preventDefault();\n",
       "    return false;\n",
       "};\n",
       "\n",
       "mpl.figure.prototype._key_event_extra = function (_event, _name) {\n",
       "    // Handle any extra behaviour associated with a key event\n",
       "};\n",
       "\n",
       "mpl.figure.prototype.key_event = function (event, name) {\n",
       "    // Prevent repeat events\n",
       "    if (name === 'key_press') {\n",
       "        if (event.key === this._key) {\n",
       "            return;\n",
       "        } else {\n",
       "            this._key = event.key;\n",
       "        }\n",
       "    }\n",
       "    if (name === 'key_release') {\n",
       "        this._key = null;\n",
       "    }\n",
       "\n",
       "    var value = '';\n",
       "    if (event.ctrlKey && event.key !== 'Control') {\n",
       "        value += 'ctrl+';\n",
       "    }\n",
       "    else if (event.altKey && event.key !== 'Alt') {\n",
       "        value += 'alt+';\n",
       "    }\n",
       "    else if (event.shiftKey && event.key !== 'Shift') {\n",
       "        value += 'shift+';\n",
       "    }\n",
       "\n",
       "    value += 'k' + event.key;\n",
       "\n",
       "    this._key_event_extra(event, name);\n",
       "\n",
       "    this.send_message(name, { key: value, guiEvent: simpleKeys(event) });\n",
       "    return false;\n",
       "};\n",
       "\n",
       "mpl.figure.prototype.toolbar_button_onclick = function (name) {\n",
       "    if (name === 'download') {\n",
       "        this.handle_save(this, null);\n",
       "    } else {\n",
       "        this.send_message('toolbar_button', { name: name });\n",
       "    }\n",
       "};\n",
       "\n",
       "mpl.figure.prototype.toolbar_button_onmouseover = function (tooltip) {\n",
       "    this.message.textContent = tooltip;\n",
       "};\n",
       "\n",
       "///////////////// REMAINING CONTENT GENERATED BY embed_js.py /////////////////\n",
       "// prettier-ignore\n",
       "var _JSXTOOLS_RESIZE_OBSERVER=function(A){var t,i=new WeakMap,n=new WeakMap,a=new WeakMap,r=new WeakMap,o=new Set;function s(e){if(!(this instanceof s))throw new TypeError(\"Constructor requires 'new' operator\");i.set(this,e)}function h(){throw new TypeError(\"Function is not a constructor\")}function c(e,t,i,n){e=0 in arguments?Number(arguments[0]):0,t=1 in arguments?Number(arguments[1]):0,i=2 in arguments?Number(arguments[2]):0,n=3 in arguments?Number(arguments[3]):0,this.right=(this.x=this.left=e)+(this.width=i),this.bottom=(this.y=this.top=t)+(this.height=n),Object.freeze(this)}function d(){t=requestAnimationFrame(d);var s=new WeakMap,p=new Set;o.forEach((function(t){r.get(t).forEach((function(i){var r=t instanceof window.SVGElement,o=a.get(t),d=r?0:parseFloat(o.paddingTop),f=r?0:parseFloat(o.paddingRight),l=r?0:parseFloat(o.paddingBottom),u=r?0:parseFloat(o.paddingLeft),g=r?0:parseFloat(o.borderTopWidth),m=r?0:parseFloat(o.borderRightWidth),w=r?0:parseFloat(o.borderBottomWidth),b=u+f,F=d+l,v=(r?0:parseFloat(o.borderLeftWidth))+m,W=g+w,y=r?0:t.offsetHeight-W-t.clientHeight,E=r?0:t.offsetWidth-v-t.clientWidth,R=b+v,z=F+W,M=r?t.width:parseFloat(o.width)-R-E,O=r?t.height:parseFloat(o.height)-z-y;if(n.has(t)){var k=n.get(t);if(k[0]===M&&k[1]===O)return}n.set(t,[M,O]);var S=Object.create(h.prototype);S.target=t,S.contentRect=new c(u,d,M,O),s.has(i)||(s.set(i,[]),p.add(i)),s.get(i).push(S)}))})),p.forEach((function(e){i.get(e).call(e,s.get(e),e)}))}return s.prototype.observe=function(i){if(i instanceof window.Element){r.has(i)||(r.set(i,new Set),o.add(i),a.set(i,window.getComputedStyle(i)));var n=r.get(i);n.has(this)||n.add(this),cancelAnimationFrame(t),t=requestAnimationFrame(d)}},s.prototype.unobserve=function(i){if(i instanceof window.Element&&r.has(i)){var n=r.get(i);n.has(this)&&(n.delete(this),n.size||(r.delete(i),o.delete(i))),n.size||r.delete(i),o.size||cancelAnimationFrame(t)}},A.DOMRectReadOnly=c,A.ResizeObserver=s,A.ResizeObserverEntry=h,A}; // eslint-disable-line\n",
       "mpl.toolbar_items = [[\"Home\", \"Reset original view\", \"fa fa-home icon-home\", \"home\"], [\"Back\", \"Back to previous view\", \"fa fa-arrow-left icon-arrow-left\", \"back\"], [\"Forward\", \"Forward to next view\", \"fa fa-arrow-right icon-arrow-right\", \"forward\"], [\"\", \"\", \"\", \"\"], [\"Pan\", \"Left button pans, Right button zooms\\nx/y fixes axis, CTRL fixes aspect\", \"fa fa-arrows icon-move\", \"pan\"], [\"Zoom\", \"Zoom to rectangle\\nx/y fixes axis\", \"fa fa-square-o icon-check-empty\", \"zoom\"], [\"\", \"\", \"\", \"\"], [\"Download\", \"Download plot\", \"fa fa-floppy-o icon-save\", \"download\"]];\n",
       "\n",
       "mpl.extensions = [\"eps\", \"jpeg\", \"pgf\", \"pdf\", \"png\", \"ps\", \"raw\", \"svg\", \"tif\"];\n",
       "\n",
       "mpl.default_extension = \"png\";/* global mpl */\n",
       "\n",
       "var comm_websocket_adapter = function (comm) {\n",
       "    // Create a \"websocket\"-like object which calls the given IPython comm\n",
       "    // object with the appropriate methods. Currently this is a non binary\n",
       "    // socket, so there is still some room for performance tuning.\n",
       "    var ws = {};\n",
       "\n",
       "    ws.binaryType = comm.kernel.ws.binaryType;\n",
       "    ws.readyState = comm.kernel.ws.readyState;\n",
       "    function updateReadyState(_event) {\n",
       "        if (comm.kernel.ws) {\n",
       "            ws.readyState = comm.kernel.ws.readyState;\n",
       "        } else {\n",
       "            ws.readyState = 3; // Closed state.\n",
       "        }\n",
       "    }\n",
       "    comm.kernel.ws.addEventListener('open', updateReadyState);\n",
       "    comm.kernel.ws.addEventListener('close', updateReadyState);\n",
       "    comm.kernel.ws.addEventListener('error', updateReadyState);\n",
       "\n",
       "    ws.close = function () {\n",
       "        comm.close();\n",
       "    };\n",
       "    ws.send = function (m) {\n",
       "        //console.log('sending', m);\n",
       "        comm.send(m);\n",
       "    };\n",
       "    // Register the callback with on_msg.\n",
       "    comm.on_msg(function (msg) {\n",
       "        //console.log('receiving', msg['content']['data'], msg);\n",
       "        var data = msg['content']['data'];\n",
       "        if (data['blob'] !== undefined) {\n",
       "            data = {\n",
       "                data: new Blob(msg['buffers'], { type: data['blob'] }),\n",
       "            };\n",
       "        }\n",
       "        // Pass the mpl event to the overridden (by mpl) onmessage function.\n",
       "        ws.onmessage(data);\n",
       "    });\n",
       "    return ws;\n",
       "};\n",
       "\n",
       "mpl.mpl_figure_comm = function (comm, msg) {\n",
       "    // This is the function which gets called when the mpl process\n",
       "    // starts-up an IPython Comm through the \"matplotlib\" channel.\n",
       "\n",
       "    var id = msg.content.data.id;\n",
       "    // Get hold of the div created by the display call when the Comm\n",
       "    // socket was opened in Python.\n",
       "    var element = document.getElementById(id);\n",
       "    var ws_proxy = comm_websocket_adapter(comm);\n",
       "\n",
       "    function ondownload(figure, _format) {\n",
       "        window.open(figure.canvas.toDataURL());\n",
       "    }\n",
       "\n",
       "    var fig = new mpl.figure(id, ws_proxy, ondownload, element);\n",
       "\n",
       "    // Call onopen now - mpl needs it, as it is assuming we've passed it a real\n",
       "    // web socket which is closed, not our websocket->open comm proxy.\n",
       "    ws_proxy.onopen();\n",
       "\n",
       "    fig.parent_element = element;\n",
       "    fig.cell_info = mpl.find_output_cell(\"<div id='\" + id + \"'></div>\");\n",
       "    if (!fig.cell_info) {\n",
       "        console.error('Failed to find cell for figure', id, fig);\n",
       "        return;\n",
       "    }\n",
       "    fig.cell_info[0].output_area.element.on(\n",
       "        'cleared',\n",
       "        { fig: fig },\n",
       "        fig._remove_fig_handler\n",
       "    );\n",
       "};\n",
       "\n",
       "mpl.figure.prototype.handle_close = function (fig, msg) {\n",
       "    var width = fig.canvas.width / fig.ratio;\n",
       "    fig.cell_info[0].output_area.element.off(\n",
       "        'cleared',\n",
       "        fig._remove_fig_handler\n",
       "    );\n",
       "    fig.resizeObserverInstance.unobserve(fig.canvas_div);\n",
       "\n",
       "    // Update the output cell to use the data from the current canvas.\n",
       "    fig.push_to_output();\n",
       "    var dataURL = fig.canvas.toDataURL();\n",
       "    // Re-enable the keyboard manager in IPython - without this line, in FF,\n",
       "    // the notebook keyboard shortcuts fail.\n",
       "    IPython.keyboard_manager.enable();\n",
       "    fig.parent_element.innerHTML =\n",
       "        '<img src=\"' + dataURL + '\" width=\"' + width + '\">';\n",
       "    fig.close_ws(fig, msg);\n",
       "};\n",
       "\n",
       "mpl.figure.prototype.close_ws = function (fig, msg) {\n",
       "    fig.send_message('closing', msg);\n",
       "    // fig.ws.close()\n",
       "};\n",
       "\n",
       "mpl.figure.prototype.push_to_output = function (_remove_interactive) {\n",
       "    // Turn the data on the canvas into data in the output cell.\n",
       "    var width = this.canvas.width / this.ratio;\n",
       "    var dataURL = this.canvas.toDataURL();\n",
       "    this.cell_info[1]['text/html'] =\n",
       "        '<img src=\"' + dataURL + '\" width=\"' + width + '\">';\n",
       "};\n",
       "\n",
       "mpl.figure.prototype.updated_canvas_event = function () {\n",
       "    // Tell IPython that the notebook contents must change.\n",
       "    IPython.notebook.set_dirty(true);\n",
       "    this.send_message('ack', {});\n",
       "    var fig = this;\n",
       "    // Wait a second, then push the new image to the DOM so\n",
       "    // that it is saved nicely (might be nice to debounce this).\n",
       "    setTimeout(function () {\n",
       "        fig.push_to_output();\n",
       "    }, 1000);\n",
       "};\n",
       "\n",
       "mpl.figure.prototype._init_toolbar = function () {\n",
       "    var fig = this;\n",
       "\n",
       "    var toolbar = document.createElement('div');\n",
       "    toolbar.classList = 'btn-toolbar';\n",
       "    this.root.appendChild(toolbar);\n",
       "\n",
       "    function on_click_closure(name) {\n",
       "        return function (_event) {\n",
       "            return fig.toolbar_button_onclick(name);\n",
       "        };\n",
       "    }\n",
       "\n",
       "    function on_mouseover_closure(tooltip) {\n",
       "        return function (event) {\n",
       "            if (!event.currentTarget.disabled) {\n",
       "                return fig.toolbar_button_onmouseover(tooltip);\n",
       "            }\n",
       "        };\n",
       "    }\n",
       "\n",
       "    fig.buttons = {};\n",
       "    var buttonGroup = document.createElement('div');\n",
       "    buttonGroup.classList = 'btn-group';\n",
       "    var button;\n",
       "    for (var toolbar_ind in mpl.toolbar_items) {\n",
       "        var name = mpl.toolbar_items[toolbar_ind][0];\n",
       "        var tooltip = mpl.toolbar_items[toolbar_ind][1];\n",
       "        var image = mpl.toolbar_items[toolbar_ind][2];\n",
       "        var method_name = mpl.toolbar_items[toolbar_ind][3];\n",
       "\n",
       "        if (!name) {\n",
       "            /* Instead of a spacer, we start a new button group. */\n",
       "            if (buttonGroup.hasChildNodes()) {\n",
       "                toolbar.appendChild(buttonGroup);\n",
       "            }\n",
       "            buttonGroup = document.createElement('div');\n",
       "            buttonGroup.classList = 'btn-group';\n",
       "            continue;\n",
       "        }\n",
       "\n",
       "        button = fig.buttons[name] = document.createElement('button');\n",
       "        button.classList = 'btn btn-default';\n",
       "        button.href = '#';\n",
       "        button.title = name;\n",
       "        button.innerHTML = '<i class=\"fa ' + image + ' fa-lg\"></i>';\n",
       "        button.addEventListener('click', on_click_closure(method_name));\n",
       "        button.addEventListener('mouseover', on_mouseover_closure(tooltip));\n",
       "        buttonGroup.appendChild(button);\n",
       "    }\n",
       "\n",
       "    if (buttonGroup.hasChildNodes()) {\n",
       "        toolbar.appendChild(buttonGroup);\n",
       "    }\n",
       "\n",
       "    // Add the status bar.\n",
       "    var status_bar = document.createElement('span');\n",
       "    status_bar.classList = 'mpl-message pull-right';\n",
       "    toolbar.appendChild(status_bar);\n",
       "    this.message = status_bar;\n",
       "\n",
       "    // Add the close button to the window.\n",
       "    var buttongrp = document.createElement('div');\n",
       "    buttongrp.classList = 'btn-group inline pull-right';\n",
       "    button = document.createElement('button');\n",
       "    button.classList = 'btn btn-mini btn-primary';\n",
       "    button.href = '#';\n",
       "    button.title = 'Stop Interaction';\n",
       "    button.innerHTML = '<i class=\"fa fa-power-off icon-remove icon-large\"></i>';\n",
       "    button.addEventListener('click', function (_evt) {\n",
       "        fig.handle_close(fig, {});\n",
       "    });\n",
       "    button.addEventListener(\n",
       "        'mouseover',\n",
       "        on_mouseover_closure('Stop Interaction')\n",
       "    );\n",
       "    buttongrp.appendChild(button);\n",
       "    var titlebar = this.root.querySelector('.ui-dialog-titlebar');\n",
       "    titlebar.insertBefore(buttongrp, titlebar.firstChild);\n",
       "};\n",
       "\n",
       "mpl.figure.prototype._remove_fig_handler = function (event) {\n",
       "    var fig = event.data.fig;\n",
       "    if (event.target !== this) {\n",
       "        // Ignore bubbled events from children.\n",
       "        return;\n",
       "    }\n",
       "    fig.close_ws(fig, {});\n",
       "};\n",
       "\n",
       "mpl.figure.prototype._root_extra_style = function (el) {\n",
       "    el.style.boxSizing = 'content-box'; // override notebook setting of border-box.\n",
       "};\n",
       "\n",
       "mpl.figure.prototype._canvas_extra_style = function (el) {\n",
       "    // this is important to make the div 'focusable\n",
       "    el.setAttribute('tabindex', 0);\n",
       "    // reach out to IPython and tell the keyboard manager to turn it's self\n",
       "    // off when our div gets focus\n",
       "\n",
       "    // location in version 3\n",
       "    if (IPython.notebook.keyboard_manager) {\n",
       "        IPython.notebook.keyboard_manager.register_events(el);\n",
       "    } else {\n",
       "        // location in version 2\n",
       "        IPython.keyboard_manager.register_events(el);\n",
       "    }\n",
       "};\n",
       "\n",
       "mpl.figure.prototype._key_event_extra = function (event, _name) {\n",
       "    // Check for shift+enter\n",
       "    if (event.shiftKey && event.which === 13) {\n",
       "        this.canvas_div.blur();\n",
       "        // select the cell after this one\n",
       "        var index = IPython.notebook.find_cell_index(this.cell_info[0]);\n",
       "        IPython.notebook.select(index + 1);\n",
       "    }\n",
       "};\n",
       "\n",
       "mpl.figure.prototype.handle_save = function (fig, _msg) {\n",
       "    fig.ondownload(fig, null);\n",
       "};\n",
       "\n",
       "mpl.find_output_cell = function (html_output) {\n",
       "    // Return the cell and output element which can be found *uniquely* in the notebook.\n",
       "    // Note - this is a bit hacky, but it is done because the \"notebook_saving.Notebook\"\n",
       "    // IPython event is triggered only after the cells have been serialised, which for\n",
       "    // our purposes (turning an active figure into a static one), is too late.\n",
       "    var cells = IPython.notebook.get_cells();\n",
       "    var ncells = cells.length;\n",
       "    for (var i = 0; i < ncells; i++) {\n",
       "        var cell = cells[i];\n",
       "        if (cell.cell_type === 'code') {\n",
       "            for (var j = 0; j < cell.output_area.outputs.length; j++) {\n",
       "                var data = cell.output_area.outputs[j];\n",
       "                if (data.data) {\n",
       "                    // IPython >= 3 moved mimebundle to data attribute of output\n",
       "                    data = data.data;\n",
       "                }\n",
       "                if (data['text/html'] === html_output) {\n",
       "                    return [cell, data, j];\n",
       "                }\n",
       "            }\n",
       "        }\n",
       "    }\n",
       "};\n",
       "\n",
       "// Register the function which deals with the matplotlib target/channel.\n",
       "// The kernel may be null if the page has been refreshed.\n",
       "if (IPython.notebook.kernel !== null) {\n",
       "    IPython.notebook.kernel.comm_manager.register_target(\n",
       "        'matplotlib',\n",
       "        mpl.mpl_figure_comm\n",
       "    );\n",
       "}\n"
      ],
      "text/plain": [
       "<IPython.core.display.Javascript object>"
      ]
     },
     "metadata": {},
     "output_type": "display_data"
    },
    {
     "data": {
      "text/html": [
       "<img src=\"data:image/png;base64,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\" width=\"640\">"
      ],
      "text/plain": [
       "<IPython.core.display.HTML object>"
      ]
     },
     "metadata": {},
     "output_type": "display_data"
    }
   ],
   "source": [
    "%matplotlib notebook\n",
    "x = np.linspace(-20,20,100)\n",
    "y = np.sin(x)/x\n",
    "plt.plot(x,y);"
   ]
  },
  {
   "cell_type": "code",
   "execution_count": null,
   "metadata": {},
   "outputs": [],
   "source": []
  },
  {
   "cell_type": "code",
   "execution_count": null,
   "metadata": {},
   "outputs": [],
   "source": []
  },
  {
   "cell_type": "code",
   "execution_count": null,
   "metadata": {},
   "outputs": [],
   "source": []
  },
  {
   "cell_type": "code",
   "execution_count": null,
   "metadata": {},
   "outputs": [],
   "source": []
  },
  {
   "cell_type": "code",
   "execution_count": 4,
   "metadata": {
    "_cell_guid": "abb0685f-f844-43f8-84c0-4cd54361c7bf",
    "_uuid": "9c06ed7c41db79ae9d940f2d52aeff23621b3037",
    "id": "NYz5lAPp2Ziu"
   },
   "outputs": [],
   "source": [
    "kill = pd.read_csv('PoliceKillingsUS.csv', encoding=\"windows-1252\")"
   ]
  },
  {
   "cell_type": "markdown",
   "metadata": {
    "id": "wMFloMjW2Zi8"
   },
   "source": [
    "## 1: Plot number of people by gender"
   ]
  },
  {
   "cell_type": "code",
   "execution_count": 5,
   "metadata": {},
   "outputs": [
    {
     "data": {
      "text/html": [
       "<div>\n",
       "<style scoped>\n",
       "    .dataframe tbody tr th:only-of-type {\n",
       "        vertical-align: middle;\n",
       "    }\n",
       "\n",
       "    .dataframe tbody tr th {\n",
       "        vertical-align: top;\n",
       "    }\n",
       "\n",
       "    .dataframe thead th {\n",
       "        text-align: right;\n",
       "    }\n",
       "</style>\n",
       "<table border=\"1\" class=\"dataframe\">\n",
       "  <thead>\n",
       "    <tr style=\"text-align: right;\">\n",
       "      <th></th>\n",
       "      <th>id</th>\n",
       "      <th>name</th>\n",
       "      <th>date</th>\n",
       "      <th>manner_of_death</th>\n",
       "      <th>armed</th>\n",
       "      <th>age</th>\n",
       "      <th>gender</th>\n",
       "      <th>race</th>\n",
       "      <th>city</th>\n",
       "      <th>state</th>\n",
       "      <th>signs_of_mental_illness</th>\n",
       "      <th>threat_level</th>\n",
       "      <th>flee</th>\n",
       "      <th>body_camera</th>\n",
       "    </tr>\n",
       "  </thead>\n",
       "  <tbody>\n",
       "    <tr>\n",
       "      <th>0</th>\n",
       "      <td>3</td>\n",
       "      <td>Tim Elliot</td>\n",
       "      <td>02/01/15</td>\n",
       "      <td>shot</td>\n",
       "      <td>gun</td>\n",
       "      <td>53.0</td>\n",
       "      <td>M</td>\n",
       "      <td>A</td>\n",
       "      <td>Shelton</td>\n",
       "      <td>WA</td>\n",
       "      <td>True</td>\n",
       "      <td>attack</td>\n",
       "      <td>Not fleeing</td>\n",
       "      <td>False</td>\n",
       "    </tr>\n",
       "    <tr>\n",
       "      <th>1</th>\n",
       "      <td>4</td>\n",
       "      <td>Lewis Lee Lembke</td>\n",
       "      <td>02/01/15</td>\n",
       "      <td>shot</td>\n",
       "      <td>gun</td>\n",
       "      <td>47.0</td>\n",
       "      <td>M</td>\n",
       "      <td>W</td>\n",
       "      <td>Aloha</td>\n",
       "      <td>OR</td>\n",
       "      <td>False</td>\n",
       "      <td>attack</td>\n",
       "      <td>Not fleeing</td>\n",
       "      <td>False</td>\n",
       "    </tr>\n",
       "    <tr>\n",
       "      <th>2</th>\n",
       "      <td>5</td>\n",
       "      <td>John Paul Quintero</td>\n",
       "      <td>03/01/15</td>\n",
       "      <td>shot and Tasered</td>\n",
       "      <td>unarmed</td>\n",
       "      <td>23.0</td>\n",
       "      <td>M</td>\n",
       "      <td>H</td>\n",
       "      <td>Wichita</td>\n",
       "      <td>KS</td>\n",
       "      <td>False</td>\n",
       "      <td>other</td>\n",
       "      <td>Not fleeing</td>\n",
       "      <td>False</td>\n",
       "    </tr>\n",
       "    <tr>\n",
       "      <th>3</th>\n",
       "      <td>8</td>\n",
       "      <td>Matthew Hoffman</td>\n",
       "      <td>04/01/15</td>\n",
       "      <td>shot</td>\n",
       "      <td>toy weapon</td>\n",
       "      <td>32.0</td>\n",
       "      <td>M</td>\n",
       "      <td>W</td>\n",
       "      <td>San Francisco</td>\n",
       "      <td>CA</td>\n",
       "      <td>True</td>\n",
       "      <td>attack</td>\n",
       "      <td>Not fleeing</td>\n",
       "      <td>False</td>\n",
       "    </tr>\n",
       "    <tr>\n",
       "      <th>4</th>\n",
       "      <td>9</td>\n",
       "      <td>Michael Rodriguez</td>\n",
       "      <td>04/01/15</td>\n",
       "      <td>shot</td>\n",
       "      <td>nail gun</td>\n",
       "      <td>39.0</td>\n",
       "      <td>M</td>\n",
       "      <td>H</td>\n",
       "      <td>Evans</td>\n",
       "      <td>CO</td>\n",
       "      <td>False</td>\n",
       "      <td>attack</td>\n",
       "      <td>Not fleeing</td>\n",
       "      <td>False</td>\n",
       "    </tr>\n",
       "  </tbody>\n",
       "</table>\n",
       "</div>"
      ],
      "text/plain": [
       "   id                name      date   manner_of_death       armed   age  \\\n",
       "0   3          Tim Elliot  02/01/15              shot         gun  53.0   \n",
       "1   4    Lewis Lee Lembke  02/01/15              shot         gun  47.0   \n",
       "2   5  John Paul Quintero  03/01/15  shot and Tasered     unarmed  23.0   \n",
       "3   8     Matthew Hoffman  04/01/15              shot  toy weapon  32.0   \n",
       "4   9   Michael Rodriguez  04/01/15              shot    nail gun  39.0   \n",
       "\n",
       "  gender race           city state  signs_of_mental_illness threat_level  \\\n",
       "0      M    A        Shelton    WA                     True       attack   \n",
       "1      M    W          Aloha    OR                    False       attack   \n",
       "2      M    H        Wichita    KS                    False        other   \n",
       "3      M    W  San Francisco    CA                     True       attack   \n",
       "4      M    H          Evans    CO                    False       attack   \n",
       "\n",
       "          flee  body_camera  \n",
       "0  Not fleeing        False  \n",
       "1  Not fleeing        False  \n",
       "2  Not fleeing        False  \n",
       "3  Not fleeing        False  \n",
       "4  Not fleeing        False  "
      ]
     },
     "execution_count": 5,
     "metadata": {},
     "output_type": "execute_result"
    }
   ],
   "source": [
    "kill.head()"
   ]
  },
  {
   "cell_type": "code",
   "execution_count": null,
   "metadata": {
    "colab": {
     "base_uri": "https://localhost:8080/",
     "height": 307
    },
    "executionInfo": {
     "elapsed": 12,
     "status": "ok",
     "timestamp": 1622926983505,
     "user": {
      "displayName": "Thomas Rico",
      "photoUrl": "",
      "userId": "03459133432310094050"
     },
     "user_tz": -180
    },
    "id": "g73Ix7402Zi9",
    "outputId": "3cc46e86-dfdd-46ef-b738-e1f0f1dd6d82"
   },
   "outputs": [
    {
     "data": {
      "text/html": [
       "<div>\n",
       "<style scoped>\n",
       "    .dataframe tbody tr th:only-of-type {\n",
       "        vertical-align: middle;\n",
       "    }\n",
       "\n",
       "    .dataframe tbody tr th {\n",
       "        vertical-align: top;\n",
       "    }\n",
       "\n",
       "    .dataframe thead th {\n",
       "        text-align: right;\n",
       "    }\n",
       "</style>\n",
       "<table border=\"1\" class=\"dataframe\">\n",
       "  <thead>\n",
       "    <tr style=\"text-align: right;\">\n",
       "      <th></th>\n",
       "      <th>id</th>\n",
       "      <th>name</th>\n",
       "      <th>date</th>\n",
       "      <th>manner_of_death</th>\n",
       "      <th>armed</th>\n",
       "      <th>age</th>\n",
       "      <th>gender</th>\n",
       "      <th>race</th>\n",
       "      <th>city</th>\n",
       "      <th>state</th>\n",
       "      <th>signs_of_mental_illness</th>\n",
       "      <th>threat_level</th>\n",
       "      <th>flee</th>\n",
       "      <th>body_camera</th>\n",
       "    </tr>\n",
       "  </thead>\n",
       "  <tbody>\n",
       "    <tr>\n",
       "      <th>0</th>\n",
       "      <td>3</td>\n",
       "      <td>Tim Elliot</td>\n",
       "      <td>02/01/15</td>\n",
       "      <td>shot</td>\n",
       "      <td>gun</td>\n",
       "      <td>53.0</td>\n",
       "      <td>M</td>\n",
       "      <td>A</td>\n",
       "      <td>Shelton</td>\n",
       "      <td>WA</td>\n",
       "      <td>True</td>\n",
       "      <td>attack</td>\n",
       "      <td>Not fleeing</td>\n",
       "      <td>False</td>\n",
       "    </tr>\n",
       "    <tr>\n",
       "      <th>1</th>\n",
       "      <td>4</td>\n",
       "      <td>Lewis Lee Lembke</td>\n",
       "      <td>02/01/15</td>\n",
       "      <td>shot</td>\n",
       "      <td>gun</td>\n",
       "      <td>47.0</td>\n",
       "      <td>M</td>\n",
       "      <td>W</td>\n",
       "      <td>Aloha</td>\n",
       "      <td>OR</td>\n",
       "      <td>False</td>\n",
       "      <td>attack</td>\n",
       "      <td>Not fleeing</td>\n",
       "      <td>False</td>\n",
       "    </tr>\n",
       "    <tr>\n",
       "      <th>2</th>\n",
       "      <td>5</td>\n",
       "      <td>John Paul Quintero</td>\n",
       "      <td>03/01/15</td>\n",
       "      <td>shot and Tasered</td>\n",
       "      <td>unarmed</td>\n",
       "      <td>23.0</td>\n",
       "      <td>M</td>\n",
       "      <td>H</td>\n",
       "      <td>Wichita</td>\n",
       "      <td>KS</td>\n",
       "      <td>False</td>\n",
       "      <td>other</td>\n",
       "      <td>Not fleeing</td>\n",
       "      <td>False</td>\n",
       "    </tr>\n",
       "    <tr>\n",
       "      <th>3</th>\n",
       "      <td>8</td>\n",
       "      <td>Matthew Hoffman</td>\n",
       "      <td>04/01/15</td>\n",
       "      <td>shot</td>\n",
       "      <td>toy weapon</td>\n",
       "      <td>32.0</td>\n",
       "      <td>M</td>\n",
       "      <td>W</td>\n",
       "      <td>San Francisco</td>\n",
       "      <td>CA</td>\n",
       "      <td>True</td>\n",
       "      <td>attack</td>\n",
       "      <td>Not fleeing</td>\n",
       "      <td>False</td>\n",
       "    </tr>\n",
       "    <tr>\n",
       "      <th>4</th>\n",
       "      <td>9</td>\n",
       "      <td>Michael Rodriguez</td>\n",
       "      <td>04/01/15</td>\n",
       "      <td>shot</td>\n",
       "      <td>nail gun</td>\n",
       "      <td>39.0</td>\n",
       "      <td>M</td>\n",
       "      <td>H</td>\n",
       "      <td>Evans</td>\n",
       "      <td>CO</td>\n",
       "      <td>False</td>\n",
       "      <td>attack</td>\n",
       "      <td>Not fleeing</td>\n",
       "      <td>False</td>\n",
       "    </tr>\n",
       "  </tbody>\n",
       "</table>\n",
       "</div>"
      ],
      "text/plain": [
       "   id                name      date  ... threat_level         flee  body_camera\n",
       "0   3          Tim Elliot  02/01/15  ...       attack  Not fleeing        False\n",
       "1   4    Lewis Lee Lembke  02/01/15  ...       attack  Not fleeing        False\n",
       "2   5  John Paul Quintero  03/01/15  ...        other  Not fleeing        False\n",
       "3   8     Matthew Hoffman  04/01/15  ...       attack  Not fleeing        False\n",
       "4   9   Michael Rodriguez  04/01/15  ...       attack  Not fleeing        False\n",
       "\n",
       "[5 rows x 14 columns]"
      ]
     },
     "execution_count": 3,
     "metadata": {
      "tags": []
     },
     "output_type": "execute_result"
    }
   ],
   "source": []
  },
  {
   "cell_type": "code",
   "execution_count": 92,
   "metadata": {},
   "outputs": [
    {
     "data": {
      "image/png": "[encoded data removed]",
      "text/plain": [
       "<Figure size 432x288 with 1 Axes>"
      ]
     },
     "metadata": {
      "needs_background": "light"
     },
     "output_type": "display_data"
    }
   ],
   "source": [
    "ax=kill.gender.value_counts().plot.bar(width=0.8)\n",
    "ax.set_xticklabels(labels=[\"M\",\"F\"],rotation=0)\n",
    "# Add annotation to bars\n",
    "for i in ax.patches:\n",
    "    ax.text(i.get_x()+(i.get_width()/3),i.get_height()+25, \n",
    "             str(round((i.get_height()))))"
   ]
  },
  {
   "cell_type": "code",
   "execution_count": null,
   "metadata": {
    "colab": {
     "base_uri": "https://localhost:8080/",
     "height": 283
    },
    "executionInfo": {
     "elapsed": 14,
     "status": "ok",
     "timestamp": 1622926983973,
     "user": {
      "displayName": "Thomas Rico",
      "photoUrl": "",
      "userId": "03459133432310094050"
     },
     "user_tz": -180
    },
    "id": "KtJXC38R2Zi9",
    "outputId": "99c4a881-e389-4469-984c-31d6b2bf67a2"
   },
   "outputs": [
    {
     "data": {
      "image/png": "[encoded data removed]",
      "text/plain": [
       "<Figure size 432x288 with 1 Axes>"
      ]
     },
     "metadata": {
      "needs_background": "light",
      "tags": []
     },
     "output_type": "display_data"
    }
   ],
   "source": [
    "# with matplotlib\n"
   ]
  },
  {
   "cell_type": "markdown",
   "metadata": {
    "id": "3CDiN8a22Zi9"
   },
   "source": [
    "## 2: Plot 7 most common kill weapons"
   ]
  },
  {
   "cell_type": "code",
   "execution_count": 90,
   "metadata": {},
   "outputs": [
    {
     "data": {
      "text/plain": [
       "gun               1398\n",
       "knife              373\n",
       "vehicle            177\n",
       "unarmed            171\n",
       "undetermined       117\n",
       "toy weapon         104\n",
       "unknown weapon      18\n",
       "Name: armed, dtype: int64"
      ]
     },
     "execution_count": 90,
     "metadata": {},
     "output_type": "execute_result"
    }
   ],
   "source": [
    "kill.armed.value_counts().head(7)"
   ]
  },
  {
   "cell_type": "code",
   "execution_count": null,
   "metadata": {
    "colab": {
     "base_uri": "https://localhost:8080/"
    },
    "executionInfo": {
     "elapsed": 14,
     "status": "ok",
     "timestamp": 1622926983974,
     "user": {
      "displayName": "Thomas Rico",
      "photoUrl": "",
      "userId": "03459133432310094050"
     },
     "user_tz": -180
    },
    "id": "BAU2H77b2Zi9",
    "outputId": "a893d160-7464-448d-de16-6e4399c36a75"
   },
   "outputs": [
    {
     "data": {
      "text/plain": [
       "gun               1398\n",
       "knife              373\n",
       "vehicle            177\n",
       "unarmed            171\n",
       "undetermined       117\n",
       "toy weapon         104\n",
       "unknown weapon      18\n",
       "Name: armed, dtype: int64"
      ]
     },
     "execution_count": 6,
     "metadata": {
      "tags": []
     },
     "output_type": "execute_result"
    }
   ],
   "source": []
  },
  {
   "cell_type": "code",
   "execution_count": 111,
   "metadata": {},
   "outputs": [
    {
     "data": {
      "image/png": "[encoded data removed]",
      "text/plain": [
       "<Figure size 576x360 with 1 Axes>"
      ]
     },
     "metadata": {
      "needs_background": "light"
     },
     "output_type": "display_data"
    }
   ],
   "source": [
    "fig,ax=plt.subplots(figsize=(8,5))\n",
    "ax=kill.armed.value_counts().head(7).plot.bar(width=0.7)\n",
    "ax.set_xticklabels(labels=kill.armed.value_counts().head(7).keys(),rotation=45)\n",
    "# Add annotation to bars\n",
    "for i in ax.patches:\n",
    "    ax.text(i.get_x(),i.get_height()+25, \n",
    "             str(round((i.get_height()))))"
   ]
  },
  {
   "cell_type": "code",
   "execution_count": null,
   "metadata": {
    "colab": {
     "base_uri": "https://localhost:8080/",
     "height": 379
    },
    "executionInfo": {
     "elapsed": 408,
     "status": "ok",
     "timestamp": 1622926984372,
     "user": {
      "displayName": "Thomas Rico",
      "photoUrl": "",
      "userId": "03459133432310094050"
     },
     "user_tz": -180
    },
    "id": "v6AvLOw82Zi-",
    "outputId": "b0539d81-1511-4ec4-b5dd-4160319f2096"
   },
   "outputs": [
    {
     "data": {
      "image/png": "[encoded data removed]",
      "text/plain": [
       "<Figure size 576x360 with 1 Axes>"
      ]
     },
     "metadata": {
      "needs_background": "light",
      "tags": []
     },
     "output_type": "display_data"
    }
   ],
   "source": [
    "# with matplotlib\n"
   ]
  },
  {
   "cell_type": "markdown",
   "metadata": {
    "id": "GqXH5Xag2Zi-"
   },
   "source": [
    "## 3: Plot number of age of killed people under two groups : Under 25 and Above 25"
   ]
  },
  {
   "cell_type": "code",
   "execution_count": 112,
   "metadata": {},
   "outputs": [
    {
     "data": {
      "text/html": [
       "<div>\n",
       "<style scoped>\n",
       "    .dataframe tbody tr th:only-of-type {\n",
       "        vertical-align: middle;\n",
       "    }\n",
       "\n",
       "    .dataframe tbody tr th {\n",
       "        vertical-align: top;\n",
       "    }\n",
       "\n",
       "    .dataframe thead th {\n",
       "        text-align: right;\n",
       "    }\n",
       "</style>\n",
       "<table border=\"1\" class=\"dataframe\">\n",
       "  <thead>\n",
       "    <tr style=\"text-align: right;\">\n",
       "      <th></th>\n",
       "      <th>id</th>\n",
       "      <th>name</th>\n",
       "      <th>date</th>\n",
       "      <th>manner_of_death</th>\n",
       "      <th>armed</th>\n",
       "      <th>age</th>\n",
       "      <th>gender</th>\n",
       "      <th>race</th>\n",
       "      <th>city</th>\n",
       "      <th>state</th>\n",
       "      <th>signs_of_mental_illness</th>\n",
       "      <th>threat_level</th>\n",
       "      <th>flee</th>\n",
       "      <th>body_camera</th>\n",
       "    </tr>\n",
       "  </thead>\n",
       "  <tbody>\n",
       "    <tr>\n",
       "      <th>0</th>\n",
       "      <td>3</td>\n",
       "      <td>Tim Elliot</td>\n",
       "      <td>02/01/15</td>\n",
       "      <td>shot</td>\n",
       "      <td>gun</td>\n",
       "      <td>53.0</td>\n",
       "      <td>M</td>\n",
       "      <td>A</td>\n",
       "      <td>Shelton</td>\n",
       "      <td>WA</td>\n",
       "      <td>True</td>\n",
       "      <td>attack</td>\n",
       "      <td>Not fleeing</td>\n",
       "      <td>False</td>\n",
       "    </tr>\n",
       "    <tr>\n",
       "      <th>1</th>\n",
       "      <td>4</td>\n",
       "      <td>Lewis Lee Lembke</td>\n",
       "      <td>02/01/15</td>\n",
       "      <td>shot</td>\n",
       "      <td>gun</td>\n",
       "      <td>47.0</td>\n",
       "      <td>M</td>\n",
       "      <td>W</td>\n",
       "      <td>Aloha</td>\n",
       "      <td>OR</td>\n",
       "      <td>False</td>\n",
       "      <td>attack</td>\n",
       "      <td>Not fleeing</td>\n",
       "      <td>False</td>\n",
       "    </tr>\n",
       "    <tr>\n",
       "      <th>2</th>\n",
       "      <td>5</td>\n",
       "      <td>John Paul Quintero</td>\n",
       "      <td>03/01/15</td>\n",
       "      <td>shot and Tasered</td>\n",
       "      <td>unarmed</td>\n",
       "      <td>23.0</td>\n",
       "      <td>M</td>\n",
       "      <td>H</td>\n",
       "      <td>Wichita</td>\n",
       "      <td>KS</td>\n",
       "      <td>False</td>\n",
       "      <td>other</td>\n",
       "      <td>Not fleeing</td>\n",
       "      <td>False</td>\n",
       "    </tr>\n",
       "    <tr>\n",
       "      <th>3</th>\n",
       "      <td>8</td>\n",
       "      <td>Matthew Hoffman</td>\n",
       "      <td>04/01/15</td>\n",
       "      <td>shot</td>\n",
       "      <td>toy weapon</td>\n",
       "      <td>32.0</td>\n",
       "      <td>M</td>\n",
       "      <td>W</td>\n",
       "      <td>San Francisco</td>\n",
       "      <td>CA</td>\n",
       "      <td>True</td>\n",
       "      <td>attack</td>\n",
       "      <td>Not fleeing</td>\n",
       "      <td>False</td>\n",
       "    </tr>\n",
       "    <tr>\n",
       "      <th>4</th>\n",
       "      <td>9</td>\n",
       "      <td>Michael Rodriguez</td>\n",
       "      <td>04/01/15</td>\n",
       "      <td>shot</td>\n",
       "      <td>nail gun</td>\n",
       "      <td>39.0</td>\n",
       "      <td>M</td>\n",
       "      <td>H</td>\n",
       "      <td>Evans</td>\n",
       "      <td>CO</td>\n",
       "      <td>False</td>\n",
       "      <td>attack</td>\n",
       "      <td>Not fleeing</td>\n",
       "      <td>False</td>\n",
       "    </tr>\n",
       "  </tbody>\n",
       "</table>\n",
       "</div>"
      ],
      "text/plain": [
       "   id                name      date   manner_of_death       armed   age  \\\n",
       "0   3          Tim Elliot  02/01/15              shot         gun  53.0   \n",
       "1   4    Lewis Lee Lembke  02/01/15              shot         gun  47.0   \n",
       "2   5  John Paul Quintero  03/01/15  shot and Tasered     unarmed  23.0   \n",
       "3   8     Matthew Hoffman  04/01/15              shot  toy weapon  32.0   \n",
       "4   9   Michael Rodriguez  04/01/15              shot    nail gun  39.0   \n",
       "\n",
       "  gender race           city state  signs_of_mental_illness threat_level  \\\n",
       "0      M    A        Shelton    WA                     True       attack   \n",
       "1      M    W          Aloha    OR                    False       attack   \n",
       "2      M    H        Wichita    KS                    False        other   \n",
       "3      M    W  San Francisco    CA                     True       attack   \n",
       "4      M    H          Evans    CO                    False       attack   \n",
       "\n",
       "          flee  body_camera  \n",
       "0  Not fleeing        False  \n",
       "1  Not fleeing        False  \n",
       "2  Not fleeing        False  \n",
       "3  Not fleeing        False  \n",
       "4  Not fleeing        False  "
      ]
     },
     "execution_count": 112,
     "metadata": {},
     "output_type": "execute_result"
    }
   ],
   "source": [
    "kill.head()"
   ]
  },
  {
   "cell_type": "code",
   "execution_count": null,
   "metadata": {
    "colab": {
     "base_uri": "https://localhost:8080/",
     "height": 307
    },
    "executionInfo": {
     "elapsed": 13,
     "status": "ok",
     "timestamp": 1622926984372,
     "user": {
      "displayName": "Thomas Rico",
      "photoUrl": "",
      "userId": "03459133432310094050"
     },
     "user_tz": -180
    },
    "id": "V4mng-vC2Zi-",
    "outputId": "01c48c2d-3344-4b26-ff0b-632378fb59f2"
   },
   "outputs": [
    {
     "data": {
      "text/html": [
       "<div>\n",
       "<style scoped>\n",
       "    .dataframe tbody tr th:only-of-type {\n",
       "        vertical-align: middle;\n",
       "    }\n",
       "\n",
       "    .dataframe tbody tr th {\n",
       "        vertical-align: top;\n",
       "    }\n",
       "\n",
       "    .dataframe thead th {\n",
       "        text-align: right;\n",
       "    }\n",
       "</style>\n",
       "<table border=\"1\" class=\"dataframe\">\n",
       "  <thead>\n",
       "    <tr style=\"text-align: right;\">\n",
       "      <th></th>\n",
       "      <th>id</th>\n",
       "      <th>name</th>\n",
       "      <th>date</th>\n",
       "      <th>manner_of_death</th>\n",
       "      <th>armed</th>\n",
       "      <th>age</th>\n",
       "      <th>gender</th>\n",
       "      <th>race</th>\n",
       "      <th>city</th>\n",
       "      <th>state</th>\n",
       "      <th>signs_of_mental_illness</th>\n",
       "      <th>threat_level</th>\n",
       "      <th>flee</th>\n",
       "      <th>body_camera</th>\n",
       "    </tr>\n",
       "  </thead>\n",
       "  <tbody>\n",
       "    <tr>\n",
       "      <th>0</th>\n",
       "      <td>3</td>\n",
       "      <td>Tim Elliot</td>\n",
       "      <td>02/01/15</td>\n",
       "      <td>shot</td>\n",
       "      <td>gun</td>\n",
       "      <td>53.0</td>\n",
       "      <td>M</td>\n",
       "      <td>A</td>\n",
       "      <td>Shelton</td>\n",
       "      <td>WA</td>\n",
       "      <td>True</td>\n",
       "      <td>attack</td>\n",
       "      <td>Not fleeing</td>\n",
       "      <td>False</td>\n",
       "    </tr>\n",
       "    <tr>\n",
       "      <th>1</th>\n",
       "      <td>4</td>\n",
       "      <td>Lewis Lee Lembke</td>\n",
       "      <td>02/01/15</td>\n",
       "      <td>shot</td>\n",
       "      <td>gun</td>\n",
       "      <td>47.0</td>\n",
       "      <td>M</td>\n",
       "      <td>W</td>\n",
       "      <td>Aloha</td>\n",
       "      <td>OR</td>\n",
       "      <td>False</td>\n",
       "      <td>attack</td>\n",
       "      <td>Not fleeing</td>\n",
       "      <td>False</td>\n",
       "    </tr>\n",
       "    <tr>\n",
       "      <th>2</th>\n",
       "      <td>5</td>\n",
       "      <td>John Paul Quintero</td>\n",
       "      <td>03/01/15</td>\n",
       "      <td>shot and Tasered</td>\n",
       "      <td>unarmed</td>\n",
       "      <td>23.0</td>\n",
       "      <td>M</td>\n",
       "      <td>H</td>\n",
       "      <td>Wichita</td>\n",
       "      <td>KS</td>\n",
       "      <td>False</td>\n",
       "      <td>other</td>\n",
       "      <td>Not fleeing</td>\n",
       "      <td>False</td>\n",
       "    </tr>\n",
       "    <tr>\n",
       "      <th>3</th>\n",
       "      <td>8</td>\n",
       "      <td>Matthew Hoffman</td>\n",
       "      <td>04/01/15</td>\n",
       "      <td>shot</td>\n",
       "      <td>toy weapon</td>\n",
       "      <td>32.0</td>\n",
       "      <td>M</td>\n",
       "      <td>W</td>\n",
       "      <td>San Francisco</td>\n",
       "      <td>CA</td>\n",
       "      <td>True</td>\n",
       "      <td>attack</td>\n",
       "      <td>Not fleeing</td>\n",
       "      <td>False</td>\n",
       "    </tr>\n",
       "    <tr>\n",
       "      <th>4</th>\n",
       "      <td>9</td>\n",
       "      <td>Michael Rodriguez</td>\n",
       "      <td>04/01/15</td>\n",
       "      <td>shot</td>\n",
       "      <td>nail gun</td>\n",
       "      <td>39.0</td>\n",
       "      <td>M</td>\n",
       "      <td>H</td>\n",
       "      <td>Evans</td>\n",
       "      <td>CO</td>\n",
       "      <td>False</td>\n",
       "      <td>attack</td>\n",
       "      <td>Not fleeing</td>\n",
       "      <td>False</td>\n",
       "    </tr>\n",
       "  </tbody>\n",
       "</table>\n",
       "</div>"
      ],
      "text/plain": [
       "   id                name      date  ... threat_level         flee  body_camera\n",
       "0   3          Tim Elliot  02/01/15  ...       attack  Not fleeing        False\n",
       "1   4    Lewis Lee Lembke  02/01/15  ...       attack  Not fleeing        False\n",
       "2   5  John Paul Quintero  03/01/15  ...        other  Not fleeing        False\n",
       "3   8     Matthew Hoffman  04/01/15  ...       attack  Not fleeing        False\n",
       "4   9   Michael Rodriguez  04/01/15  ...       attack  Not fleeing        False\n",
       "\n",
       "[5 rows x 14 columns]"
      ]
     },
     "execution_count": 9,
     "metadata": {
      "tags": []
     },
     "output_type": "execute_result"
    }
   ],
   "source": []
  },
  {
   "cell_type": "code",
   "execution_count": 116,
   "metadata": {
    "id": "1zfmB3FS2Zi-"
   },
   "outputs": [],
   "source": [
    "kill[\"age_cat\"]=kill[\"age\"].transform(lambda x: \"above25\" if x>25 else \"below25\")"
   ]
  },
  {
   "cell_type": "code",
   "execution_count": 117,
   "metadata": {},
   "outputs": [
    {
     "data": {
      "text/html": [
       "<div>\n",
       "<style scoped>\n",
       "    .dataframe tbody tr th:only-of-type {\n",
       "        vertical-align: middle;\n",
       "    }\n",
       "\n",
       "    .dataframe tbody tr th {\n",
       "        vertical-align: top;\n",
       "    }\n",
       "\n",
       "    .dataframe thead th {\n",
       "        text-align: right;\n",
       "    }\n",
       "</style>\n",
       "<table border=\"1\" class=\"dataframe\">\n",
       "  <thead>\n",
       "    <tr style=\"text-align: right;\">\n",
       "      <th></th>\n",
       "      <th>id</th>\n",
       "      <th>name</th>\n",
       "      <th>date</th>\n",
       "      <th>manner_of_death</th>\n",
       "      <th>armed</th>\n",
       "      <th>age</th>\n",
       "      <th>gender</th>\n",
       "      <th>race</th>\n",
       "      <th>city</th>\n",
       "      <th>state</th>\n",
       "      <th>signs_of_mental_illness</th>\n",
       "      <th>threat_level</th>\n",
       "      <th>flee</th>\n",
       "      <th>body_camera</th>\n",
       "      <th>age_cat</th>\n",
       "    </tr>\n",
       "  </thead>\n",
       "  <tbody>\n",
       "    <tr>\n",
       "      <th>0</th>\n",
       "      <td>3</td>\n",
       "      <td>Tim Elliot</td>\n",
       "      <td>02/01/15</td>\n",
       "      <td>shot</td>\n",
       "      <td>gun</td>\n",
       "      <td>53.0</td>\n",
       "      <td>M</td>\n",
       "      <td>A</td>\n",
       "      <td>Shelton</td>\n",
       "      <td>WA</td>\n",
       "      <td>True</td>\n",
       "      <td>attack</td>\n",
       "      <td>Not fleeing</td>\n",
       "      <td>False</td>\n",
       "      <td>above25</td>\n",
       "    </tr>\n",
       "    <tr>\n",
       "      <th>1</th>\n",
       "      <td>4</td>\n",
       "      <td>Lewis Lee Lembke</td>\n",
       "      <td>02/01/15</td>\n",
       "      <td>shot</td>\n",
       "      <td>gun</td>\n",
       "      <td>47.0</td>\n",
       "      <td>M</td>\n",
       "      <td>W</td>\n",
       "      <td>Aloha</td>\n",
       "      <td>OR</td>\n",
       "      <td>False</td>\n",
       "      <td>attack</td>\n",
       "      <td>Not fleeing</td>\n",
       "      <td>False</td>\n",
       "      <td>above25</td>\n",
       "    </tr>\n",
       "    <tr>\n",
       "      <th>2</th>\n",
       "      <td>5</td>\n",
       "      <td>John Paul Quintero</td>\n",
       "      <td>03/01/15</td>\n",
       "      <td>shot and Tasered</td>\n",
       "      <td>unarmed</td>\n",
       "      <td>23.0</td>\n",
       "      <td>M</td>\n",
       "      <td>H</td>\n",
       "      <td>Wichita</td>\n",
       "      <td>KS</td>\n",
       "      <td>False</td>\n",
       "      <td>other</td>\n",
       "      <td>Not fleeing</td>\n",
       "      <td>False</td>\n",
       "      <td>below25</td>\n",
       "    </tr>\n",
       "    <tr>\n",
       "      <th>3</th>\n",
       "      <td>8</td>\n",
       "      <td>Matthew Hoffman</td>\n",
       "      <td>04/01/15</td>\n",
       "      <td>shot</td>\n",
       "      <td>toy weapon</td>\n",
       "      <td>32.0</td>\n",
       "      <td>M</td>\n",
       "      <td>W</td>\n",
       "      <td>San Francisco</td>\n",
       "      <td>CA</td>\n",
       "      <td>True</td>\n",
       "      <td>attack</td>\n",
       "      <td>Not fleeing</td>\n",
       "      <td>False</td>\n",
       "      <td>above25</td>\n",
       "    </tr>\n",
       "    <tr>\n",
       "      <th>4</th>\n",
       "      <td>9</td>\n",
       "      <td>Michael Rodriguez</td>\n",
       "      <td>04/01/15</td>\n",
       "      <td>shot</td>\n",
       "      <td>nail gun</td>\n",
       "      <td>39.0</td>\n",
       "      <td>M</td>\n",
       "      <td>H</td>\n",
       "      <td>Evans</td>\n",
       "      <td>CO</td>\n",
       "      <td>False</td>\n",
       "      <td>attack</td>\n",
       "      <td>Not fleeing</td>\n",
       "      <td>False</td>\n",
       "      <td>above25</td>\n",
       "    </tr>\n",
       "  </tbody>\n",
       "</table>\n",
       "</div>"
      ],
      "text/plain": [
       "   id                name      date   manner_of_death       armed   age  \\\n",
       "0   3          Tim Elliot  02/01/15              shot         gun  53.0   \n",
       "1   4    Lewis Lee Lembke  02/01/15              shot         gun  47.0   \n",
       "2   5  John Paul Quintero  03/01/15  shot and Tasered     unarmed  23.0   \n",
       "3   8     Matthew Hoffman  04/01/15              shot  toy weapon  32.0   \n",
       "4   9   Michael Rodriguez  04/01/15              shot    nail gun  39.0   \n",
       "\n",
       "  gender race           city state  signs_of_mental_illness threat_level  \\\n",
       "0      M    A        Shelton    WA                     True       attack   \n",
       "1      M    W          Aloha    OR                    False       attack   \n",
       "2      M    H        Wichita    KS                    False        other   \n",
       "3      M    W  San Francisco    CA                     True       attack   \n",
       "4      M    H          Evans    CO                    False       attack   \n",
       "\n",
       "          flee  body_camera  age_cat  \n",
       "0  Not fleeing        False  above25  \n",
       "1  Not fleeing        False  above25  \n",
       "2  Not fleeing        False  below25  \n",
       "3  Not fleeing        False  above25  \n",
       "4  Not fleeing        False  above25  "
      ]
     },
     "execution_count": 117,
     "metadata": {},
     "output_type": "execute_result"
    }
   ],
   "source": [
    "kill.head()"
   ]
  },
  {
   "cell_type": "code",
   "execution_count": null,
   "metadata": {
    "colab": {
     "base_uri": "https://localhost:8080/",
     "height": 307
    },
    "executionInfo": {
     "elapsed": 11,
     "status": "ok",
     "timestamp": 1622926984373,
     "user": {
      "displayName": "Thomas Rico",
      "photoUrl": "",
      "userId": "03459133432310094050"
     },
     "user_tz": -180
    },
    "id": "DJzAOutV2Zi-",
    "outputId": "f1188a5c-2a2a-4cbd-b01e-751d47905f8f"
   },
   "outputs": [
    {
     "data": {
      "text/html": [
       "<div>\n",
       "<style scoped>\n",
       "    .dataframe tbody tr th:only-of-type {\n",
       "        vertical-align: middle;\n",
       "    }\n",
       "\n",
       "    .dataframe tbody tr th {\n",
       "        vertical-align: top;\n",
       "    }\n",
       "\n",
       "    .dataframe thead th {\n",
       "        text-align: right;\n",
       "    }\n",
       "</style>\n",
       "<table border=\"1\" class=\"dataframe\">\n",
       "  <thead>\n",
       "    <tr style=\"text-align: right;\">\n",
       "      <th></th>\n",
       "      <th>id</th>\n",
       "      <th>name</th>\n",
       "      <th>date</th>\n",
       "      <th>manner_of_death</th>\n",
       "      <th>armed</th>\n",
       "      <th>age</th>\n",
       "      <th>gender</th>\n",
       "      <th>race</th>\n",
       "      <th>city</th>\n",
       "      <th>state</th>\n",
       "      <th>signs_of_mental_illness</th>\n",
       "      <th>threat_level</th>\n",
       "      <th>flee</th>\n",
       "      <th>body_camera</th>\n",
       "      <th>age_cat</th>\n",
       "    </tr>\n",
       "  </thead>\n",
       "  <tbody>\n",
       "    <tr>\n",
       "      <th>0</th>\n",
       "      <td>3</td>\n",
       "      <td>Tim Elliot</td>\n",
       "      <td>02/01/15</td>\n",
       "      <td>shot</td>\n",
       "      <td>gun</td>\n",
       "      <td>53.0</td>\n",
       "      <td>M</td>\n",
       "      <td>A</td>\n",
       "      <td>Shelton</td>\n",
       "      <td>WA</td>\n",
       "      <td>True</td>\n",
       "      <td>attack</td>\n",
       "      <td>Not fleeing</td>\n",
       "      <td>False</td>\n",
       "      <td>above25</td>\n",
       "    </tr>\n",
       "    <tr>\n",
       "      <th>1</th>\n",
       "      <td>4</td>\n",
       "      <td>Lewis Lee Lembke</td>\n",
       "      <td>02/01/15</td>\n",
       "      <td>shot</td>\n",
       "      <td>gun</td>\n",
       "      <td>47.0</td>\n",
       "      <td>M</td>\n",
       "      <td>W</td>\n",
       "      <td>Aloha</td>\n",
       "      <td>OR</td>\n",
       "      <td>False</td>\n",
       "      <td>attack</td>\n",
       "      <td>Not fleeing</td>\n",
       "      <td>False</td>\n",
       "      <td>above25</td>\n",
       "    </tr>\n",
       "    <tr>\n",
       "      <th>2</th>\n",
       "      <td>5</td>\n",
       "      <td>John Paul Quintero</td>\n",
       "      <td>03/01/15</td>\n",
       "      <td>shot and Tasered</td>\n",
       "      <td>unarmed</td>\n",
       "      <td>23.0</td>\n",
       "      <td>M</td>\n",
       "      <td>H</td>\n",
       "      <td>Wichita</td>\n",
       "      <td>KS</td>\n",
       "      <td>False</td>\n",
       "      <td>other</td>\n",
       "      <td>Not fleeing</td>\n",
       "      <td>False</td>\n",
       "      <td>below25</td>\n",
       "    </tr>\n",
       "    <tr>\n",
       "      <th>3</th>\n",
       "      <td>8</td>\n",
       "      <td>Matthew Hoffman</td>\n",
       "      <td>04/01/15</td>\n",
       "      <td>shot</td>\n",
       "      <td>toy weapon</td>\n",
       "      <td>32.0</td>\n",
       "      <td>M</td>\n",
       "      <td>W</td>\n",
       "      <td>San Francisco</td>\n",
       "      <td>CA</td>\n",
       "      <td>True</td>\n",
       "      <td>attack</td>\n",
       "      <td>Not fleeing</td>\n",
       "      <td>False</td>\n",
       "      <td>above25</td>\n",
       "    </tr>\n",
       "    <tr>\n",
       "      <th>4</th>\n",
       "      <td>9</td>\n",
       "      <td>Michael Rodriguez</td>\n",
       "      <td>04/01/15</td>\n",
       "      <td>shot</td>\n",
       "      <td>nail gun</td>\n",
       "      <td>39.0</td>\n",
       "      <td>M</td>\n",
       "      <td>H</td>\n",
       "      <td>Evans</td>\n",
       "      <td>CO</td>\n",
       "      <td>False</td>\n",
       "      <td>attack</td>\n",
       "      <td>Not fleeing</td>\n",
       "      <td>False</td>\n",
       "      <td>above25</td>\n",
       "    </tr>\n",
       "  </tbody>\n",
       "</table>\n",
       "</div>"
      ],
      "text/plain": [
       "   id                name      date  ...         flee body_camera  age_cat\n",
       "0   3          Tim Elliot  02/01/15  ...  Not fleeing       False  above25\n",
       "1   4    Lewis Lee Lembke  02/01/15  ...  Not fleeing       False  above25\n",
       "2   5  John Paul Quintero  03/01/15  ...  Not fleeing       False  below25\n",
       "3   8     Matthew Hoffman  04/01/15  ...  Not fleeing       False  above25\n",
       "4   9   Michael Rodriguez  04/01/15  ...  Not fleeing       False  above25\n",
       "\n",
       "[5 rows x 15 columns]"
      ]
     },
     "execution_count": 11,
     "metadata": {
      "tags": []
     },
     "output_type": "execute_result"
    }
   ],
   "source": []
  },
  {
   "cell_type": "code",
   "execution_count": 118,
   "metadata": {},
   "outputs": [
    {
     "data": {
      "text/plain": [
       "above25    1905\n",
       "below25     630\n",
       "Name: age_cat, dtype: int64"
      ]
     },
     "execution_count": 118,
     "metadata": {},
     "output_type": "execute_result"
    }
   ],
   "source": [
    "kill[\"age_cat\"].value_counts()"
   ]
  },
  {
   "cell_type": "code",
   "execution_count": null,
   "metadata": {
    "colab": {
     "base_uri": "https://localhost:8080/"
    },
    "executionInfo": {
     "elapsed": 10,
     "status": "ok",
     "timestamp": 1622926984373,
     "user": {
      "displayName": "Thomas Rico",
      "photoUrl": "",
      "userId": "03459133432310094050"
     },
     "user_tz": -180
    },
    "id": "fSQ8BTUD2Zi_",
    "outputId": "89645134-4eb3-4034-bb3d-e446399aaad0"
   },
   "outputs": [
    {
     "data": {
      "text/plain": [
       "above25    1905\n",
       "below25     630\n",
       "Name: age_cat, dtype: int64"
      ]
     },
     "execution_count": 12,
     "metadata": {
      "tags": []
     },
     "output_type": "execute_result"
    }
   ],
   "source": []
  },
  {
   "cell_type": "code",
   "execution_count": 121,
   "metadata": {},
   "outputs": [
    {
     "data": {
      "image/png": "[encoded data removed]",
      "text/plain": [
       "<Figure size 432x288 with 1 Axes>"
      ]
     },
     "metadata": {
      "needs_background": "light"
     },
     "output_type": "display_data"
    }
   ],
   "source": [
    "fig,ax=plt.subplots(figsize=(6,4))\n",
    "ax=kill[\"age_cat\"].value_counts().plot.bar(width=0.7)\n",
    "ax.set_xticklabels(labels=kill[\"age_cat\"].value_counts().keys(),rotation=0)\n",
    "# Add annotation to bars\n",
    "for i in ax.patches:\n",
    "    ax.text(i.get_x()+(i.get_width()/3),i.get_height()+25, \n",
    "             str(round((i.get_height()))))"
   ]
  },
  {
   "cell_type": "code",
   "execution_count": null,
   "metadata": {
    "colab": {
     "base_uri": "https://localhost:8080/",
     "height": 269
    },
    "executionInfo": {
     "elapsed": 10,
     "status": "ok",
     "timestamp": 1622926985008,
     "user": {
      "displayName": "Thomas Rico",
      "photoUrl": "",
      "userId": "03459133432310094050"
     },
     "user_tz": -180
    },
    "id": "gpOukiYx2Zi_",
    "outputId": "84b257d1-14e1-4bef-d6a4-08cf0a236acb"
   },
   "outputs": [
    {
     "data": {
      "image/png": "[encoded data removed]",
      "text/plain": [
       "<Figure size 432x288 with 1 Axes>"
      ]
     },
     "metadata": {
      "needs_background": "light",
      "tags": []
     },
     "output_type": "display_data"
    }
   ],
   "source": [
    "# with matplotlib\n"
   ]
  },
  {
   "cell_type": "markdown",
   "metadata": {
    "id": "SZ-wps772Zi_"
   },
   "source": [
    "## 4: Plot number of killed poeple by race"
   ]
  },
  {
   "cell_type": "code",
   "execution_count": 123,
   "metadata": {},
   "outputs": [
    {
     "data": {
      "text/plain": [
       "W    1201\n",
       "B     618\n",
       "H     423\n",
       "A      39\n",
       "N      31\n",
       "O      28\n",
       "Name: race, dtype: int64"
      ]
     },
     "execution_count": 123,
     "metadata": {},
     "output_type": "execute_result"
    }
   ],
   "source": [
    "kill.race.value_counts()"
   ]
  },
  {
   "cell_type": "code",
   "execution_count": null,
   "metadata": {
    "colab": {
     "base_uri": "https://localhost:8080/"
    },
    "executionInfo": {
     "elapsed": 10,
     "status": "ok",
     "timestamp": 1622926985009,
     "user": {
      "displayName": "Thomas Rico",
      "photoUrl": "",
      "userId": "03459133432310094050"
     },
     "user_tz": -180
    },
    "id": "Uqh-Od7X2Zi_",
    "outputId": "9d3da4ed-bc38-45c9-a66f-7d5ba5fb9f5c"
   },
   "outputs": [
    {
     "data": {
      "text/plain": [
       "W    1201\n",
       "B     618\n",
       "H     423\n",
       "A      39\n",
       "N      31\n",
       "O      28\n",
       "Name: race, dtype: int64"
      ]
     },
     "execution_count": 15,
     "metadata": {
      "tags": []
     },
     "output_type": "execute_result"
    }
   ],
   "source": []
  },
  {
   "cell_type": "code",
   "execution_count": 133,
   "metadata": {},
   "outputs": [
    {
     "data": {
      "image/png": "[encoded data removed]",
      "text/plain": [
       "<Figure size 432x288 with 1 Axes>"
      ]
     },
     "metadata": {
      "needs_background": "light"
     },
     "output_type": "display_data"
    }
   ],
   "source": [
    "fig,ax=plt.subplots(figsize=(6,4))\n",
    "ax=kill.race.value_counts().plot.bar(width=0.7)\n",
    "ax.set_xticklabels(labels=kill.race.value_counts().keys(),rotation=0)\n",
    "ax.set_title(\"Race of killed people\",color=\"blue\",fontsize=15)\n",
    "fig.show()"
   ]
  },
  {
   "cell_type": "code",
   "execution_count": null,
   "metadata": {
    "colab": {
     "base_uri": "https://localhost:8080/",
     "height": 283
    },
    "executionInfo": {
     "elapsed": 754,
     "status": "ok",
     "timestamp": 1622926985756,
     "user": {
      "displayName": "Thomas Rico",
      "photoUrl": "",
      "userId": "03459133432310094050"
     },
     "user_tz": -180
    },
    "id": "Bb16OmdB2ZjA",
    "outputId": "7e601245-42a2-4547-8d3f-8151bc5a1005"
   },
   "outputs": [
    {
     "data": {
      "image/png": "[encoded data removed]",
      "text/plain": [
       "<Figure size 432x288 with 1 Axes>"
      ]
     },
     "metadata": {
      "needs_background": "light",
      "tags": []
     },
     "output_type": "display_data"
    }
   ],
   "source": [
    "# with matplotlib\n"
   ]
  },
  {
   "cell_type": "code",
   "execution_count": null,
   "metadata": {
    "id": "o7z6kXmQ-EPT"
   },
   "outputs": [],
   "source": []
  },
  {
   "cell_type": "markdown",
   "metadata": {
    "id": "9pGSRTxe-l5B"
   },
   "source": [
    "## 5: Killed People According to Races (Pie Chart)"
   ]
  },
  {
   "cell_type": "code",
   "execution_count": 203,
   "metadata": {},
   "outputs": [
    {
     "data": {
      "text/plain": [
       "race\n",
       "A      51985\n",
       "B     805433\n",
       "H     552048\n",
       "N      40566\n",
       "O      33737\n",
       "W    1586117\n",
       "Name: id, dtype: int64"
      ]
     },
     "execution_count": 203,
     "metadata": {},
     "output_type": "execute_result"
    }
   ],
   "source": [
    "race_of_victims = kill.groupby(\"race\")[\"id\"].sum().sort_values(ascending= False).index\n",
    "race_of_victims"
   ]
  },
  {
   "cell_type": "code",
   "execution_count": null,
   "metadata": {},
   "outputs": [],
   "source": []
  },
  {
   "cell_type": "code",
   "execution_count": 134,
   "metadata": {},
   "outputs": [
    {
     "data": {
      "text/html": [
       "<div>\n",
       "<style scoped>\n",
       "    .dataframe tbody tr th:only-of-type {\n",
       "        vertical-align: middle;\n",
       "    }\n",
       "\n",
       "    .dataframe tbody tr th {\n",
       "        vertical-align: top;\n",
       "    }\n",
       "\n",
       "    .dataframe thead th {\n",
       "        text-align: right;\n",
       "    }\n",
       "</style>\n",
       "<table border=\"1\" class=\"dataframe\">\n",
       "  <thead>\n",
       "    <tr style=\"text-align: right;\">\n",
       "      <th></th>\n",
       "      <th>id</th>\n",
       "      <th>name</th>\n",
       "      <th>date</th>\n",
       "      <th>manner_of_death</th>\n",
       "      <th>armed</th>\n",
       "      <th>age</th>\n",
       "      <th>gender</th>\n",
       "      <th>race</th>\n",
       "      <th>city</th>\n",
       "      <th>state</th>\n",
       "      <th>signs_of_mental_illness</th>\n",
       "      <th>threat_level</th>\n",
       "      <th>flee</th>\n",
       "      <th>body_camera</th>\n",
       "      <th>age_cat</th>\n",
       "    </tr>\n",
       "  </thead>\n",
       "  <tbody>\n",
       "    <tr>\n",
       "      <th>0</th>\n",
       "      <td>3</td>\n",
       "      <td>Tim Elliot</td>\n",
       "      <td>02/01/15</td>\n",
       "      <td>shot</td>\n",
       "      <td>gun</td>\n",
       "      <td>53.0</td>\n",
       "      <td>M</td>\n",
       "      <td>A</td>\n",
       "      <td>Shelton</td>\n",
       "      <td>WA</td>\n",
       "      <td>True</td>\n",
       "      <td>attack</td>\n",
       "      <td>Not fleeing</td>\n",
       "      <td>False</td>\n",
       "      <td>above25</td>\n",
       "    </tr>\n",
       "    <tr>\n",
       "      <th>1</th>\n",
       "      <td>4</td>\n",
       "      <td>Lewis Lee Lembke</td>\n",
       "      <td>02/01/15</td>\n",
       "      <td>shot</td>\n",
       "      <td>gun</td>\n",
       "      <td>47.0</td>\n",
       "      <td>M</td>\n",
       "      <td>W</td>\n",
       "      <td>Aloha</td>\n",
       "      <td>OR</td>\n",
       "      <td>False</td>\n",
       "      <td>attack</td>\n",
       "      <td>Not fleeing</td>\n",
       "      <td>False</td>\n",
       "      <td>above25</td>\n",
       "    </tr>\n",
       "    <tr>\n",
       "      <th>2</th>\n",
       "      <td>5</td>\n",
       "      <td>John Paul Quintero</td>\n",
       "      <td>03/01/15</td>\n",
       "      <td>shot and Tasered</td>\n",
       "      <td>unarmed</td>\n",
       "      <td>23.0</td>\n",
       "      <td>M</td>\n",
       "      <td>H</td>\n",
       "      <td>Wichita</td>\n",
       "      <td>KS</td>\n",
       "      <td>False</td>\n",
       "      <td>other</td>\n",
       "      <td>Not fleeing</td>\n",
       "      <td>False</td>\n",
       "      <td>below25</td>\n",
       "    </tr>\n",
       "    <tr>\n",
       "      <th>3</th>\n",
       "      <td>8</td>\n",
       "      <td>Matthew Hoffman</td>\n",
       "      <td>04/01/15</td>\n",
       "      <td>shot</td>\n",
       "      <td>toy weapon</td>\n",
       "      <td>32.0</td>\n",
       "      <td>M</td>\n",
       "      <td>W</td>\n",
       "      <td>San Francisco</td>\n",
       "      <td>CA</td>\n",
       "      <td>True</td>\n",
       "      <td>attack</td>\n",
       "      <td>Not fleeing</td>\n",
       "      <td>False</td>\n",
       "      <td>above25</td>\n",
       "    </tr>\n",
       "    <tr>\n",
       "      <th>4</th>\n",
       "      <td>9</td>\n",
       "      <td>Michael Rodriguez</td>\n",
       "      <td>04/01/15</td>\n",
       "      <td>shot</td>\n",
       "      <td>nail gun</td>\n",
       "      <td>39.0</td>\n",
       "      <td>M</td>\n",
       "      <td>H</td>\n",
       "      <td>Evans</td>\n",
       "      <td>CO</td>\n",
       "      <td>False</td>\n",
       "      <td>attack</td>\n",
       "      <td>Not fleeing</td>\n",
       "      <td>False</td>\n",
       "      <td>above25</td>\n",
       "    </tr>\n",
       "  </tbody>\n",
       "</table>\n",
       "</div>"
      ],
      "text/plain": [
       "   id                name      date   manner_of_death       armed   age  \\\n",
       "0   3          Tim Elliot  02/01/15              shot         gun  53.0   \n",
       "1   4    Lewis Lee Lembke  02/01/15              shot         gun  47.0   \n",
       "2   5  John Paul Quintero  03/01/15  shot and Tasered     unarmed  23.0   \n",
       "3   8     Matthew Hoffman  04/01/15              shot  toy weapon  32.0   \n",
       "4   9   Michael Rodriguez  04/01/15              shot    nail gun  39.0   \n",
       "\n",
       "  gender race           city state  signs_of_mental_illness threat_level  \\\n",
       "0      M    A        Shelton    WA                     True       attack   \n",
       "1      M    W          Aloha    OR                    False       attack   \n",
       "2      M    H        Wichita    KS                    False        other   \n",
       "3      M    W  San Francisco    CA                     True       attack   \n",
       "4      M    H          Evans    CO                    False       attack   \n",
       "\n",
       "          flee  body_camera  age_cat  \n",
       "0  Not fleeing        False  above25  \n",
       "1  Not fleeing        False  above25  \n",
       "2  Not fleeing        False  below25  \n",
       "3  Not fleeing        False  above25  \n",
       "4  Not fleeing        False  above25  "
      ]
     },
     "execution_count": 134,
     "metadata": {},
     "output_type": "execute_result"
    }
   ],
   "source": [
    "kill.head()"
   ]
  },
  {
   "cell_type": "code",
   "execution_count": null,
   "metadata": {
    "colab": {
     "base_uri": "https://localhost:8080/",
     "height": 307
    },
    "executionInfo": {
     "elapsed": 52,
     "status": "ok",
     "timestamp": 1622926985757,
     "user": {
      "displayName": "Thomas Rico",
      "photoUrl": "",
      "userId": "03459133432310094050"
     },
     "user_tz": -180
    },
    "id": "gq_OO4tB-l5E",
    "outputId": "0a45ca8f-7df9-4b85-d72f-8b0d4115561c"
   },
   "outputs": [
    {
     "data": {
      "text/html": [
       "<div>\n",
       "<style scoped>\n",
       "    .dataframe tbody tr th:only-of-type {\n",
       "        vertical-align: middle;\n",
       "    }\n",
       "\n",
       "    .dataframe tbody tr th {\n",
       "        vertical-align: top;\n",
       "    }\n",
       "\n",
       "    .dataframe thead th {\n",
       "        text-align: right;\n",
       "    }\n",
       "</style>\n",
       "<table border=\"1\" class=\"dataframe\">\n",
       "  <thead>\n",
       "    <tr style=\"text-align: right;\">\n",
       "      <th></th>\n",
       "      <th>id</th>\n",
       "      <th>name</th>\n",
       "      <th>date</th>\n",
       "      <th>manner_of_death</th>\n",
       "      <th>armed</th>\n",
       "      <th>age</th>\n",
       "      <th>gender</th>\n",
       "      <th>race</th>\n",
       "      <th>city</th>\n",
       "      <th>state</th>\n",
       "      <th>signs_of_mental_illness</th>\n",
       "      <th>threat_level</th>\n",
       "      <th>flee</th>\n",
       "      <th>body_camera</th>\n",
       "      <th>age_cat</th>\n",
       "    </tr>\n",
       "  </thead>\n",
       "  <tbody>\n",
       "    <tr>\n",
       "      <th>0</th>\n",
       "      <td>3</td>\n",
       "      <td>Tim Elliot</td>\n",
       "      <td>02/01/15</td>\n",
       "      <td>shot</td>\n",
       "      <td>gun</td>\n",
       "      <td>53.0</td>\n",
       "      <td>M</td>\n",
       "      <td>A</td>\n",
       "      <td>Shelton</td>\n",
       "      <td>WA</td>\n",
       "      <td>True</td>\n",
       "      <td>attack</td>\n",
       "      <td>Not fleeing</td>\n",
       "      <td>False</td>\n",
       "      <td>above25</td>\n",
       "    </tr>\n",
       "    <tr>\n",
       "      <th>1</th>\n",
       "      <td>4</td>\n",
       "      <td>Lewis Lee Lembke</td>\n",
       "      <td>02/01/15</td>\n",
       "      <td>shot</td>\n",
       "      <td>gun</td>\n",
       "      <td>47.0</td>\n",
       "      <td>M</td>\n",
       "      <td>W</td>\n",
       "      <td>Aloha</td>\n",
       "      <td>OR</td>\n",
       "      <td>False</td>\n",
       "      <td>attack</td>\n",
       "      <td>Not fleeing</td>\n",
       "      <td>False</td>\n",
       "      <td>above25</td>\n",
       "    </tr>\n",
       "    <tr>\n",
       "      <th>2</th>\n",
       "      <td>5</td>\n",
       "      <td>John Paul Quintero</td>\n",
       "      <td>03/01/15</td>\n",
       "      <td>shot and Tasered</td>\n",
       "      <td>unarmed</td>\n",
       "      <td>23.0</td>\n",
       "      <td>M</td>\n",
       "      <td>H</td>\n",
       "      <td>Wichita</td>\n",
       "      <td>KS</td>\n",
       "      <td>False</td>\n",
       "      <td>other</td>\n",
       "      <td>Not fleeing</td>\n",
       "      <td>False</td>\n",
       "      <td>below25</td>\n",
       "    </tr>\n",
       "    <tr>\n",
       "      <th>3</th>\n",
       "      <td>8</td>\n",
       "      <td>Matthew Hoffman</td>\n",
       "      <td>04/01/15</td>\n",
       "      <td>shot</td>\n",
       "      <td>toy weapon</td>\n",
       "      <td>32.0</td>\n",
       "      <td>M</td>\n",
       "      <td>W</td>\n",
       "      <td>San Francisco</td>\n",
       "      <td>CA</td>\n",
       "      <td>True</td>\n",
       "      <td>attack</td>\n",
       "      <td>Not fleeing</td>\n",
       "      <td>False</td>\n",
       "      <td>above25</td>\n",
       "    </tr>\n",
       "    <tr>\n",
       "      <th>4</th>\n",
       "      <td>9</td>\n",
       "      <td>Michael Rodriguez</td>\n",
       "      <td>04/01/15</td>\n",
       "      <td>shot</td>\n",
       "      <td>nail gun</td>\n",
       "      <td>39.0</td>\n",
       "      <td>M</td>\n",
       "      <td>H</td>\n",
       "      <td>Evans</td>\n",
       "      <td>CO</td>\n",
       "      <td>False</td>\n",
       "      <td>attack</td>\n",
       "      <td>Not fleeing</td>\n",
       "      <td>False</td>\n",
       "      <td>above25</td>\n",
       "    </tr>\n",
       "  </tbody>\n",
       "</table>\n",
       "</div>"
      ],
      "text/plain": [
       "   id                name      date  ...         flee body_camera  age_cat\n",
       "0   3          Tim Elliot  02/01/15  ...  Not fleeing       False  above25\n",
       "1   4    Lewis Lee Lembke  02/01/15  ...  Not fleeing       False  above25\n",
       "2   5  John Paul Quintero  03/01/15  ...  Not fleeing       False  below25\n",
       "3   8     Matthew Hoffman  04/01/15  ...  Not fleeing       False  above25\n",
       "4   9   Michael Rodriguez  04/01/15  ...  Not fleeing       False  above25\n",
       "\n",
       "[5 rows x 15 columns]"
      ]
     },
     "execution_count": 18,
     "metadata": {
      "tags": []
     },
     "output_type": "execute_result"
    }
   ],
   "source": []
  },
  {
   "cell_type": "code",
   "execution_count": 135,
   "metadata": {},
   "outputs": [
    {
     "data": {
      "text/plain": [
       "array(['A', 'W', 'H', 'B', 'O', nan, 'N'], dtype=object)"
      ]
     },
     "execution_count": 135,
     "metadata": {},
     "output_type": "execute_result"
    }
   ],
   "source": [
    "kill.race.unique()"
   ]
  },
  {
   "cell_type": "code",
   "execution_count": null,
   "metadata": {
    "_uuid": "73ef9a67518196c14338e28236b5054186fabdc1",
    "colab": {
     "base_uri": "https://localhost:8080/"
    },
    "executionInfo": {
     "elapsed": 51,
     "status": "ok",
     "timestamp": 1622926985758,
     "user": {
      "displayName": "Thomas Rico",
      "photoUrl": "",
      "userId": "03459133432310094050"
     },
     "user_tz": -180
    },
    "id": "_ZPh_aCz-l5F",
    "outputId": "8ee30bed-c707-4e5d-b0a0-ae4e896e35e8"
   },
   "outputs": [
    {
     "data": {
      "text/plain": [
       "array(['A', 'W', 'H', 'B', 'O', nan, 'N'], dtype=object)"
      ]
     },
     "execution_count": 19,
     "metadata": {
      "tags": []
     },
     "output_type": "execute_result"
    }
   ],
   "source": []
  },
  {
   "cell_type": "code",
   "execution_count": 204,
   "metadata": {},
   "outputs": [
    {
     "ename": "TypeError",
     "evalue": "value_counts() got an unexpected keyword argument 'subset'",
     "output_type": "error",
     "traceback": [
      "\u001b[1;31m---------------------------------------------------------------------------\u001b[0m",
      "\u001b[1;31mTypeError\u001b[0m                                 Traceback (most recent call last)",
      "\u001b[1;32m<ipython-input-204-a94a073dabbf>\u001b[0m in \u001b[0;36m<module>\u001b[1;34m\u001b[0m\n\u001b[1;32m----> 1\u001b[1;33m \u001b[0mkill\u001b[0m\u001b[1;33m.\u001b[0m\u001b[0mrace\u001b[0m\u001b[1;33m.\u001b[0m\u001b[0mvalue_counts\u001b[0m\u001b[1;33m(\u001b[0m\u001b[0msubset\u001b[0m\u001b[1;33m=\u001b[0m\u001b[1;33m[\u001b[0m\u001b[1;34m\"W\"\u001b[0m\u001b[1;33m,\u001b[0m\u001b[1;34m\"B\"\u001b[0m\u001b[1;33m]\u001b[0m\u001b[1;33m,\u001b[0m\u001b[0mdropna\u001b[0m\u001b[1;33m=\u001b[0m\u001b[1;32mFalse\u001b[0m\u001b[1;33m)\u001b[0m\u001b[1;33m\u001b[0m\u001b[1;33m\u001b[0m\u001b[0m\n\u001b[0m",
      "\u001b[1;31mTypeError\u001b[0m: value_counts() got an unexpected keyword argument 'subset'"
     ]
    }
   ],
   "source": [
    "kill.race.value_counts(dropna=False)"
   ]
  },
  {
   "cell_type": "code",
   "execution_count": null,
   "metadata": {
    "colab": {
     "base_uri": "https://localhost:8080/"
    },
    "executionInfo": {
     "elapsed": 49,
     "status": "ok",
     "timestamp": 1622926985758,
     "user": {
      "displayName": "Thomas Rico",
      "photoUrl": "",
      "userId": "03459133432310094050"
     },
     "user_tz": -180
    },
    "id": "4lJAFvsx-l5F",
    "outputId": "014ec220-87cf-4b96-da5c-b0f600130869"
   },
   "outputs": [
    {
     "data": {
      "text/plain": [
       "W      1201\n",
       "B       618\n",
       "H       423\n",
       "NaN     195\n",
       "A        39\n",
       "N        31\n",
       "O        28\n",
       "Name: race, dtype: int64"
      ]
     },
     "execution_count": 20,
     "metadata": {
      "tags": []
     },
     "output_type": "execute_result"
    }
   ],
   "source": []
  },
  {
   "cell_type": "markdown",
   "metadata": {
    "id": "VuWSIYCm-l5F"
   },
   "source": [
    "Problem: missing value on race column."
   ]
  },
  {
   "cell_type": "markdown",
   "metadata": {
    "id": "mmCQXFcg-l5G"
   },
   "source": [
    "**INSTRUCTION-1: Drop the all raws that contain missing value (dropna)**"
   ]
  },
  {
   "cell_type": "code",
   "execution_count": 158,
   "metadata": {
    "id": "CzwSuxgQ-l5G"
   },
   "outputs": [],
   "source": [
    "kill.dropna(axis=0,inplace=True)"
   ]
  },
  {
   "cell_type": "code",
   "execution_count": 159,
   "metadata": {},
   "outputs": [
    {
     "data": {
      "text/plain": [
       "(2254, 15)"
      ]
     },
     "execution_count": 159,
     "metadata": {},
     "output_type": "execute_result"
    }
   ],
   "source": [
    "kill.shape"
   ]
  },
  {
   "cell_type": "code",
   "execution_count": null,
   "metadata": {
    "colab": {
     "base_uri": "https://localhost:8080/"
    },
    "executionInfo": {
     "elapsed": 49,
     "status": "ok",
     "timestamp": 1622926985760,
     "user": {
      "displayName": "Thomas Rico",
      "photoUrl": "",
      "userId": "03459133432310094050"
     },
     "user_tz": -180
    },
    "id": "3DzEkUNo-l5G",
    "outputId": "fe3f08e2-9ffa-40b2-edad-963b7ee8e29d"
   },
   "outputs": [
    {
     "data": {
      "text/plain": [
       "(2254, 15)"
      ]
     },
     "execution_count": 22,
     "metadata": {
      "tags": []
     },
     "output_type": "execute_result"
    }
   ],
   "source": []
  },
  {
   "cell_type": "markdown",
   "metadata": {
    "id": "DRb2AH84-l5G"
   },
   "source": [
    "**INSTRUCTION-2: Demonstrate Race Ratio of Killed People by a Pie Chart (You can use Matplotlib)**"
   ]
  },
  {
   "cell_type": "code",
   "execution_count": 160,
   "metadata": {},
   "outputs": [
    {
     "data": {
      "text/plain": [
       "W    1168\n",
       "B     592\n",
       "H     401\n",
       "A      36\n",
       "N      29\n",
       "O      28\n",
       "Name: race, dtype: int64"
      ]
     },
     "execution_count": 160,
     "metadata": {},
     "output_type": "execute_result"
    }
   ],
   "source": [
    "kill.race.value_counts(dropna=False)"
   ]
  },
  {
   "cell_type": "code",
   "execution_count": null,
   "metadata": {
    "colab": {
     "base_uri": "https://localhost:8080/"
    },
    "executionInfo": {
     "elapsed": 48,
     "status": "ok",
     "timestamp": 1622926985761,
     "user": {
      "displayName": "Thomas Rico",
      "photoUrl": "",
      "userId": "03459133432310094050"
     },
     "user_tz": -180
    },
    "id": "Pq0aSdnz-l5G",
    "outputId": "313c6efc-d2cd-4030-8ee8-1cd496565d2c"
   },
   "outputs": [
    {
     "data": {
      "text/plain": [
       "W    1168\n",
       "B     592\n",
       "H     401\n",
       "A      36\n",
       "N      29\n",
       "O      28\n",
       "Name: race, dtype: int64"
      ]
     },
     "execution_count": 23,
     "metadata": {
      "tags": []
     },
     "output_type": "execute_result"
    }
   ],
   "source": []
  },
  {
   "cell_type": "code",
   "execution_count": 161,
   "metadata": {},
   "outputs": [
    {
     "data": {
      "text/plain": [
       "array(['A', 'W', 'H', 'B', 'O', 'N'], dtype=object)"
      ]
     },
     "execution_count": 161,
     "metadata": {},
     "output_type": "execute_result"
    }
   ],
   "source": [
    "kill.race.unique()"
   ]
  },
  {
   "cell_type": "code",
   "execution_count": null,
   "metadata": {
    "colab": {
     "base_uri": "https://localhost:8080/"
    },
    "executionInfo": {
     "elapsed": 47,
     "status": "ok",
     "timestamp": 1622926985761,
     "user": {
      "displayName": "Thomas Rico",
      "photoUrl": "",
      "userId": "03459133432310094050"
     },
     "user_tz": -180
    },
    "id": "z3CnjKfh-l5H",
    "outputId": "f138b9ff-11c1-48e2-e616-6a8db21e7dbe"
   },
   "outputs": [
    {
     "data": {
      "text/plain": [
       "Index(['W', 'B', 'H', 'A', 'N', 'O'], dtype='object')"
      ]
     },
     "execution_count": 24,
     "metadata": {
      "tags": []
     },
     "output_type": "execute_result"
    }
   ],
   "source": []
  },
  {
   "cell_type": "code",
   "execution_count": 184,
   "metadata": {},
   "outputs": [
    {
     "data": {
      "text/plain": [
       "array([1168,  592,  401,   36,   29,   28], dtype=int64)"
      ]
     },
     "execution_count": 184,
     "metadata": {},
     "output_type": "execute_result"
    }
   ],
   "source": [
    "kill.race.value_counts().values"
   ]
  },
  {
   "cell_type": "code",
   "execution_count": null,
   "metadata": {
    "colab": {
     "base_uri": "https://localhost:8080/"
    },
    "executionInfo": {
     "elapsed": 47,
     "status": "ok",
     "timestamp": 1622926985762,
     "user": {
      "displayName": "Thomas Rico",
      "photoUrl": "",
      "userId": "03459133432310094050"
     },
     "user_tz": -180
    },
    "id": "dNnqgLCM-l5H",
    "outputId": "939f3639-058d-4bf3-abd0-19105f334802"
   },
   "outputs": [
    {
     "data": {
      "text/plain": [
       "array([1168,  592,  401,   36,   29,   28])"
      ]
     },
     "execution_count": 25,
     "metadata": {
      "tags": []
     },
     "output_type": "execute_result"
    }
   ],
   "source": []
  },
  {
   "cell_type": "code",
   "execution_count": 201,
   "metadata": {},
   "outputs": [
    {
     "data": {
      "image/png": "[encoded data removed]",
      "text/plain": [
       "<Figure size 720x720 with 1 Axes>"
      ]
     },
     "metadata": {},
     "output_type": "display_data"
    }
   ],
   "source": [
    "fig,ax=plt.subplots(figsize=(10,10))\n",
    "ax=kill.race.value_counts().plot.pie(startangle=75,explode=[0,0,0.1,0,0,0], autopct='%1.1f%%')\n"
   ]
  },
  {
   "cell_type": "code",
   "execution_count": null,
   "metadata": {
    "colab": {
     "base_uri": "https://localhost:8080/",
     "height": 575
    },
    "executionInfo": {
     "elapsed": 45,
     "status": "ok",
     "timestamp": 1622926985762,
     "user": {
      "displayName": "Thomas Rico",
      "photoUrl": "",
      "userId": "03459133432310094050"
     },
     "user_tz": -180
    },
    "id": "F1CSkbxa-l5H",
    "outputId": "18bae490-b8d5-49b0-b124-f1c4f75a0129"
   },
   "outputs": [
    {
     "data": {
      "image/png": "[encoded data removed]",
      "text/plain": [
       "<Figure size 720x720 with 1 Axes>"
      ]
     },
     "metadata": {
      "tags": []
     },
     "output_type": "display_data"
    }
   ],
   "source": [
    "# matplotlib\n",
    "\n"
   ]
  },
  {
   "cell_type": "code",
   "execution_count": null,
   "metadata": {
    "id": "tRAjYkN_MqkZ"
   },
   "outputs": [],
   "source": []
  }
 ],
 "metadata": {
  "colab": {
   "collapsed_sections": [],
   "name": "Assignment-1 student.ipynb",
   "provenance": [],
   "toc_visible": true
  },
  "kernelspec": {
   "display_name": "Python 3",
   "language": "python",
   "name": "python3"
  },
  "language_info": {
   "codemirror_mode": {
    "name": "ipython",
    "version": 3
   },
   "file_extension": ".py",
   "mimetype": "text/x-python",
   "name": "python",
   "nbconvert_exporter": "python",
   "pygments_lexer": "ipython3",
   "version": "3.8.5"
  }
 },
 "nbformat": 4,
 "nbformat_minor": 1
}
